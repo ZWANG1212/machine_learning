{
 "cells": [
  {
   "cell_type": "code",
   "execution_count": 7,
   "id": "higher-bracelet",
   "metadata": {},
   "outputs": [
    {
     "data": {
      "text/plain": [
       "True"
      ]
     },
     "execution_count": 7,
     "metadata": {},
     "output_type": "execute_result"
    }
   ],
   "source": [
    "import tensorflow as tf\n",
    "\n",
    "tf.executing_eagerly()"
   ]
  },
  {
   "cell_type": "markdown",
   "id": "objective-dayton",
   "metadata": {},
   "source": [
    "# TensorFlow\n",
    "\n",
    "* Python 列表(list):\n",
    "\n",
    "  可以存储不同数据类型；在内存中不连续存放；读写效率低，占用内存空间大；不适合做数值计算。\n",
    "\n",
    "* Numpy 数组(ndarray):\n",
    "\n",
    "  元素数据类型相同; 在内存中连续存放；读写效率高，存储空间小；在CPU中运算，不能主动监测、利用GPU进行运算。\n",
    "\n",
    "* TensorFlow张量(Tensor):\n",
    "\n",
    "  可以高速运行于GPU和TPU之上；支持CPU、嵌入式、等多种环境。\n",
    "\n",
    "TensorFlow 的基本运算、参数命名、运算规则、API设计与Numpy非常相似。\n",
    "\n",
    "**创建张量**\n",
    "\n",
    "张量由Tensor类实现，每个张量都是一个Tensor对象。\n",
    "\n",
    "创建：`tf.constant()` 函数\n",
    "\n",
    "`tf.constant(value, dtype, shape)`\n",
    "\n",
    "value: 数字／Python列表／Numpy数组\n",
    "\n",
    "dtype: 元素的数据类型\n",
    "\n",
    "shape: 张量的维度"
   ]
  },
  {
   "cell_type": "code",
   "execution_count": 4,
   "id": "agreed-colombia",
   "metadata": {},
   "outputs": [
    {
     "data": {
      "text/plain": [
       "<tf.Tensor: shape=(2, 2), dtype=int32, numpy=\n",
       "array([[1, 2],\n",
       "       [3, 4]], dtype=int32)>"
      ]
     },
     "execution_count": 4,
     "metadata": {},
     "output_type": "execute_result"
    }
   ],
   "source": [
    "# 创建张量，参数为Python列表\n",
    "tf.constant([[1, 2], [3, 4]])"
   ]
  },
  {
   "cell_type": "markdown",
   "id": "genetic-portsmouth",
   "metadata": {},
   "source": [
    "TensorFlow的张量是对Numpy数组的封装，可以用过`张量.numpy()`方法访问封装的numpy数组。"
   ]
  },
  {
   "cell_type": "code",
   "execution_count": 6,
   "id": "brilliant-spell",
   "metadata": {},
   "outputs": [
    {
     "data": {
      "text/plain": [
       "array([[1, 2],\n",
       "       [3, 4]], dtype=int32)"
      ]
     },
     "execution_count": 6,
     "metadata": {},
     "output_type": "execute_result"
    }
   ],
   "source": [
    "a = tf.constant([[1, 2], [3, 4]])\n",
    "a.numpy()"
   ]
  }
 ],
 "metadata": {
  "kernelspec": {
   "display_name": "Python 3",
   "language": "python",
   "name": "python3"
  },
  "language_info": {
   "codemirror_mode": {
    "name": "ipython",
    "version": 3
   },
   "file_extension": ".py",
   "mimetype": "text/x-python",
   "name": "python",
   "nbconvert_exporter": "python",
   "pygments_lexer": "ipython3",
   "version": "3.9.2"
  }
 },
 "nbformat": 4,
 "nbformat_minor": 5
}
