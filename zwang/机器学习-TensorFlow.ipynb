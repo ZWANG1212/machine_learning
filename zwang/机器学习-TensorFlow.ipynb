{
 "cells": [
  {
   "cell_type": "code",
   "execution_count": 54,
   "id": "higher-bracelet",
   "metadata": {},
   "outputs": [
    {
     "name": "stdout",
     "output_type": "stream",
     "text": [
      "2.5.0-rc0\n"
     ]
    },
    {
     "data": {
      "text/plain": [
       "True"
      ]
     },
     "execution_count": 54,
     "metadata": {},
     "output_type": "execute_result"
    }
   ],
   "source": [
    "import tensorflow as tf\n",
    "\n",
    "print(tf.__version__)\n",
    "tf.executing_eagerly()"
   ]
  },
  {
   "cell_type": "markdown",
   "id": "objective-dayton",
   "metadata": {},
   "source": [
    "# TensorFlow\n",
    "\n",
    "* Python 列表(list):\n",
    "\n",
    "  可以存储不同数据类型；在内存中不连续存放；读写效率低，占用内存空间大；不适合做数值计算。\n",
    "\n",
    "* Numpy 数组(ndarray):\n",
    "\n",
    "  元素数据类型相同; 在内存中连续存放；读写效率高，存储空间小；在CPU中运算，不能主动监测、利用GPU进行运算。\n",
    "\n",
    "* TensorFlow张量(Tensor):\n",
    "\n",
    "  可以高速运行于GPU和TPU之上；支持CPU、嵌入式、等多种环境。\n",
    "\n",
    "TensorFlow 的基本运算、参数命名、运算规则、API设计与Numpy非常相似。TensorFlow的所有运算都是在张量之间运行的，Numpy数组仅作为输入输出。\n",
    "在CPU环境下，张量和Numpy数组共享同一段内存。多维张量在内存中是以一维数组的方式连续存储的。\n",
    "\n",
    "## 创建张量\n",
    "\n",
    "张量由Tensor类实现，每个张量都是一个Tensor对象。\n",
    "\n",
    "1. `tf.constant()` 函数\n",
    "\n",
    "`tf.constant(value, dtype, shape)`\n",
    "\n",
    "value: 数字／Python列表／Numpy数组 ／ bool型\n",
    "\n",
    "dtype: 元素的数据类型\n",
    "\n",
    "shape: 张量的维度"
   ]
  },
  {
   "cell_type": "code",
   "execution_count": 3,
   "id": "agreed-colombia",
   "metadata": {},
   "outputs": [
    {
     "data": {
      "text/plain": [
       "<tf.Tensor: shape=(2, 2), dtype=int32, numpy=\n",
       "array([[1, 2],\n",
       "       [3, 4]], dtype=int32)>"
      ]
     },
     "execution_count": 3,
     "metadata": {},
     "output_type": "execute_result"
    }
   ],
   "source": [
    "# 创建张量，参数为Python列表\n",
    "tf.constant([[1, 2], [3, 4]])"
   ]
  },
  {
   "cell_type": "markdown",
   "id": "genetic-portsmouth",
   "metadata": {},
   "source": [
    "TensorFlow的张量是对Numpy数组的封装，可以用过`张量.numpy()`方法访问封装的numpy数组。"
   ]
  },
  {
   "cell_type": "code",
   "execution_count": 4,
   "id": "brilliant-spell",
   "metadata": {},
   "outputs": [
    {
     "data": {
      "text/plain": [
       "array([[1, 2],\n",
       "       [3, 4]], dtype=int32)"
      ]
     },
     "execution_count": 4,
     "metadata": {},
     "output_type": "execute_result"
    }
   ],
   "source": [
    "a = tf.constant([[1, 2], [3, 4]])\n",
    "a.numpy()"
   ]
  },
  {
   "cell_type": "code",
   "execution_count": 5,
   "id": "written-cyprus",
   "metadata": {},
   "outputs": [
    {
     "data": {
      "text/plain": [
       "tensorflow.python.framework.ops.EagerTensor"
      ]
     },
     "execution_count": 5,
     "metadata": {},
     "output_type": "execute_result"
    }
   ],
   "source": [
    "type(a)"
   ]
  },
  {
   "cell_type": "markdown",
   "id": "statistical-values",
   "metadata": {},
   "source": [
    "表示a是一个Eager模式下的张量"
   ]
  },
  {
   "cell_type": "code",
   "execution_count": 6,
   "id": "medium-particular",
   "metadata": {
    "scrolled": true
   },
   "outputs": [
    {
     "name": "stdout",
     "output_type": "stream",
     "text": [
      "tf.Tensor(\n",
      "[[1 2]\n",
      " [3 4]], shape=(2, 2), dtype=int32)\n"
     ]
    }
   ],
   "source": [
    "print(a)"
   ]
  },
  {
   "cell_type": "code",
   "execution_count": 7,
   "id": "checked-deposit",
   "metadata": {},
   "outputs": [
    {
     "data": {
      "text/plain": [
       "<tf.Tensor: shape=(), dtype=float64, numpy=1.0>"
      ]
     },
     "execution_count": 7,
     "metadata": {},
     "output_type": "execute_result"
    }
   ],
   "source": [
    "# 创建张量，参数是数值\n",
    "tf.constant(1, dtype=tf.float64)"
   ]
  },
  {
   "cell_type": "code",
   "execution_count": 9,
   "id": "facial-neighborhood",
   "metadata": {},
   "outputs": [
    {
     "data": {
      "text/plain": [
       "<tf.Tensor: shape=(), dtype=int32, numpy=1>"
      ]
     },
     "execution_count": 9,
     "metadata": {},
     "output_type": "execute_result"
    }
   ],
   "source": [
    "tf.constant(1)"
   ]
  },
  {
   "cell_type": "code",
   "execution_count": 8,
   "id": "integral-institution",
   "metadata": {},
   "outputs": [
    {
     "data": {
      "text/plain": [
       "<tf.Tensor: shape=(2,), dtype=int64, numpy=array([1, 2])>"
      ]
     },
     "execution_count": 8,
     "metadata": {},
     "output_type": "execute_result"
    }
   ],
   "source": [
    "# 创建张量，参数是numpy array\n",
    "import numpy as np\n",
    "\n",
    "tf.constant(np.array([1, 2]))"
   ]
  },
  {
   "cell_type": "markdown",
   "id": "strange-course",
   "metadata": {},
   "source": [
    "numpy数组创建的张量默认的数据类型来源于numpy数组的数据类型，由于numpy默认是64位，所以这里是64位，但实际上32位足够使用了也比较快，建议使用32位："
   ]
  },
  {
   "cell_type": "code",
   "execution_count": 10,
   "id": "spare-knight",
   "metadata": {
    "scrolled": true
   },
   "outputs": [
    {
     "data": {
      "text/plain": [
       "<tf.Tensor: shape=(2,), dtype=int32, numpy=array([1, 2], dtype=int32)>"
      ]
     },
     "execution_count": 10,
     "metadata": {},
     "output_type": "execute_result"
    }
   ],
   "source": [
    "tf.constant(np.array([1, 2]), dtype=tf.int32)"
   ]
  },
  {
   "cell_type": "markdown",
   "id": "fluid-latitude",
   "metadata": {},
   "source": [
    "`tf.cast(x, dtype)` 改变张量中元素的数据类型，但是注意一般是从低维度数据类型到高纬度数据类型转换，不然从高纬度向低纬度转换容易溢出。"
   ]
  },
  {
   "cell_type": "code",
   "execution_count": 14,
   "id": "imperial-closer",
   "metadata": {},
   "outputs": [
    {
     "name": "stdout",
     "output_type": "stream",
     "text": [
      "<dtype: 'int64'>\n",
      "<dtype: 'int32'>\n"
     ]
    }
   ],
   "source": [
    "a = tf.constant(np.array([1, 2]))\n",
    "b = tf.cast(a, dtype=tf.int32)\n",
    "print(a.dtype)\n",
    "print(b.dtype)"
   ]
  },
  {
   "cell_type": "code",
   "execution_count": 16,
   "id": "congressional-lobby",
   "metadata": {},
   "outputs": [
    {
     "data": {
      "text/plain": [
       "<tf.Tensor: shape=(), dtype=bool, numpy=True>"
      ]
     },
     "execution_count": 16,
     "metadata": {},
     "output_type": "execute_result"
    }
   ],
   "source": [
    "# 创建张量，参数是bool型\n",
    "a = tf.constant(True)\n",
    "a"
   ]
  },
  {
   "cell_type": "code",
   "execution_count": 17,
   "id": "medical-psychiatry",
   "metadata": {},
   "outputs": [
    {
     "data": {
      "text/plain": [
       "<tf.Tensor: shape=(), dtype=int32, numpy=1>"
      ]
     },
     "execution_count": 17,
     "metadata": {},
     "output_type": "execute_result"
    }
   ],
   "source": [
    "# bool型与整型之间可以互相转换\n",
    "b = tf.cast(a, tf.int32)\n",
    "b"
   ]
  },
  {
   "cell_type": "code",
   "execution_count": 18,
   "id": "coordinate-arthritis",
   "metadata": {},
   "outputs": [
    {
     "data": {
      "text/plain": [
       "<tf.Tensor: shape=(5,), dtype=bool, numpy=array([ True,  True, False,  True,  True])>"
      ]
     },
     "execution_count": 18,
     "metadata": {},
     "output_type": "execute_result"
    }
   ],
   "source": [
    "# 非0转换为True，0转换为False\n",
    "c = tf.constant([1, -1, 0, 2, 3])\n",
    "d = tf.cast(c, dtype=tf.bool)\n",
    "d"
   ]
  },
  {
   "cell_type": "code",
   "execution_count": 19,
   "id": "qualified-prague",
   "metadata": {},
   "outputs": [
    {
     "data": {
      "text/plain": [
       "<tf.Tensor: shape=(), dtype=string, numpy=b'hello'>"
      ]
     },
     "execution_count": 19,
     "metadata": {},
     "output_type": "execute_result"
    }
   ],
   "source": [
    "# 创建张量，参数是string\n",
    "a = tf.constant(\"hello\")\n",
    "a"
   ]
  },
  {
   "cell_type": "markdown",
   "id": "toxic-sense",
   "metadata": {},
   "source": [
    "在python3中，string是用unicode编码的，到numpy中要转换为字节串，字符串前面需要加上 `b` "
   ]
  },
  {
   "cell_type": "markdown",
   "id": "sophisticated-atlas",
   "metadata": {},
   "source": [
    "2. `tf.convert_to_tensor(numpy数组/python列表/bool型／字符串)` 创建tensor"
   ]
  },
  {
   "cell_type": "code",
   "execution_count": 20,
   "id": "understanding-cornwall",
   "metadata": {},
   "outputs": [
    {
     "data": {
      "text/plain": [
       "<tf.Tensor: shape=(3, 4), dtype=int64, numpy=\n",
       "array([[ 0,  1,  2,  3],\n",
       "       [ 4,  5,  6,  7],\n",
       "       [ 8,  9, 10, 11]])>"
      ]
     },
     "execution_count": 20,
     "metadata": {},
     "output_type": "execute_result"
    }
   ],
   "source": [
    "na = np.arange(12).reshape(3, 4)\n",
    "ta = tf.convert_to_tensor(na)\n",
    "ta"
   ]
  },
  {
   "cell_type": "markdown",
   "id": "olympic-score",
   "metadata": {},
   "source": [
    "3. `tf.is_tensor()` 判断是否张量类型"
   ]
  },
  {
   "cell_type": "code",
   "execution_count": 21,
   "id": "superior-authorization",
   "metadata": {},
   "outputs": [
    {
     "data": {
      "text/plain": [
       "False"
      ]
     },
     "execution_count": 21,
     "metadata": {},
     "output_type": "execute_result"
    }
   ],
   "source": [
    "tf.is_tensor(na)"
   ]
  },
  {
   "cell_type": "code",
   "execution_count": 22,
   "id": "sixth-disabled",
   "metadata": {},
   "outputs": [
    {
     "data": {
      "text/plain": [
       "True"
      ]
     },
     "execution_count": 22,
     "metadata": {},
     "output_type": "execute_result"
    }
   ],
   "source": [
    "tf.is_tensor(ta)"
   ]
  },
  {
   "cell_type": "markdown",
   "id": "asian-increase",
   "metadata": {},
   "source": [
    "也可以用python中的isinstance()判断类型"
   ]
  },
  {
   "cell_type": "code",
   "execution_count": 23,
   "id": "purple-disposition",
   "metadata": {},
   "outputs": [
    {
     "data": {
      "text/plain": [
       "True"
      ]
     },
     "execution_count": 23,
     "metadata": {},
     "output_type": "execute_result"
    }
   ],
   "source": [
    "isinstance(na, np.ndarray)"
   ]
  },
  {
   "cell_type": "code",
   "execution_count": 24,
   "id": "aggressive-antigua",
   "metadata": {},
   "outputs": [
    {
     "data": {
      "text/plain": [
       "True"
      ]
     },
     "execution_count": 24,
     "metadata": {},
     "output_type": "execute_result"
    }
   ],
   "source": [
    "isinstance(ta, tf.Tensor)"
   ]
  },
  {
   "cell_type": "markdown",
   "id": "republican-status",
   "metadata": {},
   "source": [
    "4. 创建全0或全1张量 `tf.zeros(shape, dtype=tf.float32)` `tf.ones(shape, dtype=tf.float32)` 默认数据类型是tf.float32"
   ]
  },
  {
   "cell_type": "code",
   "execution_count": 25,
   "id": "frequent-marketplace",
   "metadata": {},
   "outputs": [
    {
     "data": {
      "text/plain": [
       "<tf.Tensor: shape=(2, 1), dtype=float32, numpy=\n",
       "array([[0.],\n",
       "       [0.]], dtype=float32)>"
      ]
     },
     "execution_count": 25,
     "metadata": {},
     "output_type": "execute_result"
    }
   ],
   "source": [
    "tf.zeros(shape=(2, 1))"
   ]
  },
  {
   "cell_type": "code",
   "execution_count": 26,
   "id": "honey-biology",
   "metadata": {},
   "outputs": [
    {
     "data": {
      "text/plain": [
       "<tf.Tensor: shape=(2, 2), dtype=float32, numpy=\n",
       "array([[1., 1.],\n",
       "       [1., 1.]], dtype=float32)>"
      ]
     },
     "execution_count": 26,
     "metadata": {},
     "output_type": "execute_result"
    }
   ],
   "source": [
    "tf.ones(shape=(2, 2))"
   ]
  },
  {
   "cell_type": "code",
   "execution_count": 30,
   "id": "third-steps",
   "metadata": {},
   "outputs": [
    {
     "data": {
      "text/plain": [
       "<tf.Tensor: shape=(3, 4), dtype=float32, numpy=\n",
       "array([[1., 1., 1., 1.],\n",
       "       [1., 1., 1., 1.],\n",
       "       [1., 1., 1., 1.]], dtype=float32)>"
      ]
     },
     "execution_count": 30,
     "metadata": {},
     "output_type": "execute_result"
    }
   ],
   "source": [
    "tf.ones([3, 4])"
   ]
  },
  {
   "cell_type": "markdown",
   "id": "composed-orleans",
   "metadata": {},
   "source": [
    "5. 创建所有元素值都相同的张量 `tf.fill(dims, value)`"
   ]
  },
  {
   "cell_type": "code",
   "execution_count": 28,
   "id": "extensive-female",
   "metadata": {},
   "outputs": [
    {
     "data": {
      "text/plain": [
       "<tf.Tensor: shape=(2, 2), dtype=int32, numpy=\n",
       "array([[5, 5],\n",
       "       [5, 5]], dtype=int32)>"
      ]
     },
     "execution_count": 28,
     "metadata": {},
     "output_type": "execute_result"
    }
   ],
   "source": [
    "tf.fill(dims=(2, 2), value=5)"
   ]
  },
  {
   "cell_type": "code",
   "execution_count": 29,
   "id": "forty-miniature",
   "metadata": {},
   "outputs": [
    {
     "data": {
      "text/plain": [
       "<tf.Tensor: shape=(2, 2), dtype=int32, numpy=\n",
       "array([[5, 5],\n",
       "       [5, 5]], dtype=int32)>"
      ]
     },
     "execution_count": 29,
     "metadata": {},
     "output_type": "execute_result"
    }
   ],
   "source": [
    "tf.fill([2, 2], 5)"
   ]
  },
  {
   "cell_type": "code",
   "execution_count": 32,
   "id": "invisible-spectacular",
   "metadata": {},
   "outputs": [
    {
     "data": {
      "text/plain": [
       "<tf.Tensor: shape=(2, 2), dtype=int32, numpy=\n",
       "array([[5, 5],\n",
       "       [5, 5]], dtype=int32)>"
      ]
     },
     "execution_count": 32,
     "metadata": {},
     "output_type": "execute_result"
    }
   ],
   "source": [
    "tf.constant(value=5, shape=[2, 2])"
   ]
  },
  {
   "cell_type": "code",
   "execution_count": 33,
   "id": "delayed-fighter",
   "metadata": {},
   "outputs": [
    {
     "data": {
      "text/plain": [
       "<tf.Tensor: shape=(2, 2), dtype=int32, numpy=\n",
       "array([[5, 5],\n",
       "       [5, 5]], dtype=int32)>"
      ]
     },
     "execution_count": 33,
     "metadata": {},
     "output_type": "execute_result"
    }
   ],
   "source": [
    "tf.constant(5, shape=[2, 2])"
   ]
  },
  {
   "cell_type": "markdown",
   "id": "complimentary-tissue",
   "metadata": {},
   "source": [
    "为避免混淆不同形式，尽量使用关键词形式"
   ]
  },
  {
   "cell_type": "markdown",
   "id": "seeing-rescue",
   "metadata": {},
   "source": [
    "6. 创建服从标准正态分布的张量 `tf.random.normal(shape, mean, stddev, dtype)` 默认为标准正态分布，即mean=0, stddev=1"
   ]
  },
  {
   "cell_type": "code",
   "execution_count": 34,
   "id": "color-thursday",
   "metadata": {},
   "outputs": [
    {
     "data": {
      "text/plain": [
       "<tf.Tensor: shape=(3, 3, 3), dtype=float32, numpy=\n",
       "array([[[-0.6749023 , -3.2487562 ,  6.4994273 ],\n",
       "        [-1.271746  ,  2.7861636 , -1.6927681 ],\n",
       "        [ 3.5853    ,  2.5916934 , -2.175253  ]],\n",
       "\n",
       "       [[ 1.2934587 , -4.643426  ,  0.06734839],\n",
       "        [ 4.158525  , -0.37307698,  1.8560337 ],\n",
       "        [ 0.70524436, -2.9329398 ,  4.969238  ]],\n",
       "\n",
       "       [[-3.6922245 , -0.2457193 ,  1.3220365 ],\n",
       "        [-2.2036026 ,  1.9504955 ,  2.171845  ],\n",
       "        [-2.882198  ,  3.1456118 ,  0.23984219]]], dtype=float32)>"
      ]
     },
     "execution_count": 34,
     "metadata": {},
     "output_type": "execute_result"
    }
   ],
   "source": [
    "tf.random.normal([3, 3, 3], mean=0, stddev=2)"
   ]
  },
  {
   "cell_type": "markdown",
   "id": "lyric-motion",
   "metadata": {},
   "source": [
    "创建截断正态分布的张量，返回一个截断的正态分布，截断的标准是2倍的标准差 `tf.random.truncated_normal(shape, mean, stddev, dtype)`\n",
    "\n",
    "例如：当均值为0， 标准差为1时：\n",
    "\n",
    "使用`tf.random.truncated_normal()`不可能出现[-2, 2]以外的点\n",
    "\n",
    "使用`tf.random.normal()`可能出现[-2, 2]以外的点\n",
    "\n",
    "`tf.random.set(value)` 设置随机种子，可以产生同样的随机张量。"
   ]
  },
  {
   "cell_type": "code",
   "execution_count": 35,
   "id": "tutorial-barrel",
   "metadata": {},
   "outputs": [
    {
     "data": {
      "text/plain": [
       "<tf.Tensor: shape=(2, 2), dtype=float32, numpy=\n",
       "array([[-0.8757808 ,  0.3356369 ],\n",
       "       [-0.35219625, -0.3031456 ]], dtype=float32)>"
      ]
     },
     "execution_count": 35,
     "metadata": {},
     "output_type": "execute_result"
    }
   ],
   "source": [
    "tf.random.set_seed(10)\n",
    "tf.random.normal(shape=(2, 2))"
   ]
  },
  {
   "cell_type": "code",
   "execution_count": 37,
   "id": "postal-planet",
   "metadata": {},
   "outputs": [
    {
     "data": {
      "text/plain": [
       "<tf.Tensor: shape=(2, 2), dtype=float32, numpy=\n",
       "array([[-0.8757808 ,  0.3356369 ],\n",
       "       [-0.35219625, -0.3031456 ]], dtype=float32)>"
      ]
     },
     "execution_count": 37,
     "metadata": {},
     "output_type": "execute_result"
    }
   ],
   "source": [
    "tf.random.set_seed(10)\n",
    "tf.random.normal(shape=(2, 2))"
   ]
  },
  {
   "cell_type": "markdown",
   "id": "russian-continuity",
   "metadata": {},
   "source": [
    "7. 创建服从均匀分布的张量 `tf.random.uniform(shape, minval, maxval, dtype)`\n",
    "\n",
    "minval: 最小值\n",
    "\n",
    "maxval: 最大值\n",
    "\n",
    "区间前闭后开，不包括最大值。"
   ]
  },
  {
   "cell_type": "code",
   "execution_count": 38,
   "id": "exciting-split",
   "metadata": {},
   "outputs": [
    {
     "data": {
      "text/plain": [
       "<tf.Tensor: shape=(2, 3), dtype=float32, numpy=\n",
       "array([[5.5478153, 4.2658195, 1.4140713],\n",
       "       [7.0369396, 3.726666 , 6.976985 ]], dtype=float32)>"
      ]
     },
     "execution_count": 38,
     "metadata": {},
     "output_type": "execute_result"
    }
   ],
   "source": [
    "tf.random.uniform(shape=(2, 3), minval=0, maxval=10)"
   ]
  },
  {
   "cell_type": "markdown",
   "id": "foreign-bulgaria",
   "metadata": {},
   "source": [
    "8. 创建随机排序的张量  `tf.random.shuffle()`, 注意打乱的是第一维的顺序"
   ]
  },
  {
   "cell_type": "code",
   "execution_count": 40,
   "id": "explicit-yesterday",
   "metadata": {},
   "outputs": [
    {
     "data": {
      "text/plain": [
       "<tf.Tensor: shape=(3, 2), dtype=int32, numpy=\n",
       "array([[3, 4],\n",
       "       [1, 2],\n",
       "       [5, 6]], dtype=int32)>"
      ]
     },
     "execution_count": 40,
     "metadata": {},
     "output_type": "execute_result"
    }
   ],
   "source": [
    "a = tf.constant([[1, 2], [3, 4], [5, 6]])\n",
    "tf.random.shuffle(a)"
   ]
  },
  {
   "cell_type": "code",
   "execution_count": 41,
   "id": "female-leeds",
   "metadata": {},
   "outputs": [
    {
     "data": {
      "text/plain": [
       "<tf.Tensor: shape=(10,), dtype=int64, numpy=array([7, 8, 4, 5, 9, 1, 0, 2, 6, 3])>"
      ]
     },
     "execution_count": 41,
     "metadata": {},
     "output_type": "execute_result"
    }
   ],
   "source": [
    "a = np.arange(10)\n",
    "tf.random.shuffle(a)"
   ]
  },
  {
   "cell_type": "markdown",
   "id": "biblical-transport",
   "metadata": {},
   "source": [
    "9. 创建序列 `tf.range(start, limit, delta=1, dtype)`，前开后闭，与np.arange()类似"
   ]
  },
  {
   "cell_type": "code",
   "execution_count": 43,
   "id": "desirable-female",
   "metadata": {},
   "outputs": [
    {
     "data": {
      "text/plain": [
       "<tf.Tensor: shape=(10,), dtype=int32, numpy=array([0, 1, 2, 3, 4, 5, 6, 7, 8, 9], dtype=int32)>"
      ]
     },
     "execution_count": 43,
     "metadata": {},
     "output_type": "execute_result"
    }
   ],
   "source": [
    "# 创建序列\n",
    "tf.range(0, 10)"
   ]
  },
  {
   "cell_type": "code",
   "execution_count": 44,
   "id": "conscious-liabilities",
   "metadata": {},
   "outputs": [
    {
     "data": {
      "text/plain": [
       "<tf.Tensor: shape=(5,), dtype=int32, numpy=array([0, 2, 4, 6, 8], dtype=int32)>"
      ]
     },
     "execution_count": 44,
     "metadata": {},
     "output_type": "execute_result"
    }
   ],
   "source": [
    "#创建偶数序列\n",
    "tf.range(0, 10, delta=2)"
   ]
  },
  {
   "cell_type": "code",
   "execution_count": 45,
   "id": "copyrighted-hundred",
   "metadata": {},
   "outputs": [
    {
     "data": {
      "text/plain": [
       "<tf.Tensor: shape=(5,), dtype=int32, numpy=array([1, 3, 5, 7, 9], dtype=int32)>"
      ]
     },
     "execution_count": 45,
     "metadata": {},
     "output_type": "execute_result"
    }
   ],
   "source": [
    "#创建奇数序列\n",
    "tf.range(1, 10, delta=2)"
   ]
  },
  {
   "cell_type": "markdown",
   "id": "dense-personality",
   "metadata": {},
   "source": [
    "Tensor对象的属性: ndim, shape, dtype"
   ]
  },
  {
   "cell_type": "code",
   "execution_count": 48,
   "id": "german-sister",
   "metadata": {},
   "outputs": [
    {
     "data": {
      "text/plain": [
       "2"
      ]
     },
     "execution_count": 48,
     "metadata": {},
     "output_type": "execute_result"
    }
   ],
   "source": [
    "a = tf.random.normal(shape=(2, 2))\n",
    "a.ndim"
   ]
  },
  {
   "cell_type": "code",
   "execution_count": 49,
   "id": "mighty-president",
   "metadata": {},
   "outputs": [
    {
     "data": {
      "text/plain": [
       "TensorShape([2, 2])"
      ]
     },
     "execution_count": 49,
     "metadata": {},
     "output_type": "execute_result"
    }
   ],
   "source": [
    "a.shape"
   ]
  },
  {
   "cell_type": "code",
   "execution_count": 50,
   "id": "exceptional-season",
   "metadata": {},
   "outputs": [
    {
     "data": {
      "text/plain": [
       "tf.float32"
      ]
     },
     "execution_count": 50,
     "metadata": {},
     "output_type": "execute_result"
    }
   ],
   "source": [
    "a.dtype"
   ]
  },
  {
   "cell_type": "markdown",
   "id": "adjustable-concentration",
   "metadata": {},
   "source": [
    "也可以用`tf.shape(TensorObj)`, `tf.size(TensorObj)`, `tf.rank(TensorObj)`函数形式分别获取形状、元素个数、维度"
   ]
  },
  {
   "cell_type": "code",
   "execution_count": 52,
   "id": "efficient-shopper",
   "metadata": {},
   "outputs": [
    {
     "data": {
      "text/plain": [
       "<tf.Tensor: shape=(2,), dtype=int32, numpy=array([2, 2], dtype=int32)>"
      ]
     },
     "execution_count": 52,
     "metadata": {},
     "output_type": "execute_result"
    }
   ],
   "source": [
    "tf.shape(a)"
   ]
  },
  {
   "cell_type": "code",
   "execution_count": 53,
   "id": "roman-activation",
   "metadata": {},
   "outputs": [
    {
     "data": {
      "text/plain": [
       "<tf.Tensor: shape=(), dtype=int32, numpy=4>"
      ]
     },
     "execution_count": 53,
     "metadata": {},
     "output_type": "execute_result"
    }
   ],
   "source": [
    "tf.size(a)"
   ]
  },
  {
   "cell_type": "code",
   "execution_count": 54,
   "id": "unlikely-engagement",
   "metadata": {},
   "outputs": [
    {
     "data": {
      "text/plain": [
       "<tf.Tensor: shape=(), dtype=int32, numpy=2>"
      ]
     },
     "execution_count": 54,
     "metadata": {},
     "output_type": "execute_result"
    }
   ],
   "source": [
    "tf.rank(a)"
   ]
  },
  {
   "cell_type": "markdown",
   "id": "vietnamese-julian",
   "metadata": {},
   "source": [
    "## 张量维度变换\n",
    "\n",
    "`tf.reshape(tensor, shape)`\n"
   ]
  },
  {
   "cell_type": "code",
   "execution_count": 55,
   "id": "ecological-disney",
   "metadata": {},
   "outputs": [
    {
     "data": {
      "text/plain": [
       "<tf.Tensor: shape=(2, 3, 4), dtype=int32, numpy=\n",
       "array([[[ 0,  1,  2,  3],\n",
       "        [ 4,  5,  6,  7],\n",
       "        [ 8,  9, 10, 11]],\n",
       "\n",
       "       [[12, 13, 14, 15],\n",
       "        [16, 17, 18, 19],\n",
       "        [20, 21, 22, 23]]], dtype=int32)>"
      ]
     },
     "execution_count": 55,
     "metadata": {},
     "output_type": "execute_result"
    }
   ],
   "source": [
    "# 方法一\n",
    "import tensorflow as tf\n",
    "\n",
    "a= tf.range(24)\n",
    "tf.reshape(a, [2, 3, 4])"
   ]
  },
  {
   "cell_type": "code",
   "execution_count": 56,
   "id": "possible-germany",
   "metadata": {},
   "outputs": [
    {
     "data": {
      "text/plain": [
       "<tf.Tensor: shape=(2, 3, 4), dtype=int64, numpy=\n",
       "array([[[ 0,  1,  2,  3],\n",
       "        [ 4,  5,  6,  7],\n",
       "        [ 8,  9, 10, 11]],\n",
       "\n",
       "       [[12, 13, 14, 15],\n",
       "        [16, 17, 18, 19],\n",
       "        [20, 21, 22, 23]]])>"
      ]
     },
     "execution_count": 56,
     "metadata": {},
     "output_type": "execute_result"
    }
   ],
   "source": [
    "# 方法二\n",
    "import numpy as np\n",
    "\n",
    "tf.constant(np.arange(24).reshape(2, 3, 4))"
   ]
  },
  {
   "cell_type": "markdown",
   "id": "swedish-right",
   "metadata": {},
   "source": [
    "`tf.reshape(tensor, shape)` 中的shape也可以为-1，即表示不知道这个维度的数值，tf可以自己根据其他维度推导出来。"
   ]
  },
  {
   "cell_type": "code",
   "execution_count": 57,
   "id": "necessary-eleven",
   "metadata": {},
   "outputs": [
    {
     "data": {
      "text/plain": [
       "<tf.Tensor: shape=(2, 3, 4), dtype=int32, numpy=\n",
       "array([[[ 0,  1,  2,  3],\n",
       "        [ 4,  5,  6,  7],\n",
       "        [ 8,  9, 10, 11]],\n",
       "\n",
       "       [[12, 13, 14, 15],\n",
       "        [16, 17, 18, 19],\n",
       "        [20, 21, 22, 23]]], dtype=int32)>"
      ]
     },
     "execution_count": 57,
     "metadata": {},
     "output_type": "execute_result"
    }
   ],
   "source": [
    "a = tf.range(24)\n",
    "tf.reshape(a, [2, 3, -1])"
   ]
  },
  {
   "cell_type": "markdown",
   "id": "arbitrary-exchange",
   "metadata": {},
   "source": [
    "tf.reshape转换只是改变了视图（逻辑顺序），内存中的张量顺序并没有改变"
   ]
  },
  {
   "cell_type": "code",
   "execution_count": 58,
   "id": "opponent-anthony",
   "metadata": {},
   "outputs": [
    {
     "data": {
      "text/plain": [
       "<tf.Tensor: shape=(24,), dtype=int32, numpy=\n",
       "array([ 0,  1,  2,  3,  4,  5,  6,  7,  8,  9, 10, 11, 12, 13, 14, 15, 16,\n",
       "       17, 18, 19, 20, 21, 22, 23], dtype=int32)>"
      ]
     },
     "execution_count": 58,
     "metadata": {},
     "output_type": "execute_result"
    }
   ],
   "source": [
    "a"
   ]
  },
  {
   "cell_type": "markdown",
   "id": "unavailable-emission",
   "metadata": {},
   "source": [
    "## 张量维度增删\n",
    "\n",
    "`tf.expand_dims(input, axis)`\n",
    "\n",
    "input：输入张量\n",
    "\n",
    "axis: 增加的轴方向\n",
    "\n",
    "增加后的轴的维度为1\n",
    "\n",
    "`tf.squeeze(input, axis)`\n",
    "\n",
    "只能删除长度为1的维度，所以是squeeze\n",
    "\n",
    "增加和删除维度都不改变张量的存储，只是改变了视图。"
   ]
  },
  {
   "cell_type": "code",
   "execution_count": 65,
   "id": "inclusive-management",
   "metadata": {},
   "outputs": [
    {
     "data": {
      "text/plain": [
       "TensorShape([10])"
      ]
     },
     "execution_count": 65,
     "metadata": {},
     "output_type": "execute_result"
    }
   ],
   "source": [
    "a = tf.constant(np.arange(10))\n",
    "a.shape"
   ]
  },
  {
   "cell_type": "code",
   "execution_count": 66,
   "id": "premier-garlic",
   "metadata": {},
   "outputs": [
    {
     "data": {
      "text/plain": [
       "<tf.Tensor: shape=(10,), dtype=int64, numpy=array([0, 1, 2, 3, 4, 5, 6, 7, 8, 9])>"
      ]
     },
     "execution_count": 66,
     "metadata": {},
     "output_type": "execute_result"
    }
   ],
   "source": [
    "a"
   ]
  },
  {
   "cell_type": "code",
   "execution_count": 62,
   "id": "ongoing-morgan",
   "metadata": {},
   "outputs": [
    {
     "data": {
      "text/plain": [
       "TensorShape([10, 1])"
      ]
     },
     "execution_count": 62,
     "metadata": {},
     "output_type": "execute_result"
    }
   ],
   "source": [
    "# 在axis=1的方向上增加维度\n",
    "a = tf.constant(np.arange(10))\n",
    "a = tf.expand_dims(a, 1)\n",
    "a.shape"
   ]
  },
  {
   "cell_type": "code",
   "execution_count": 63,
   "id": "specified-examination",
   "metadata": {
    "scrolled": true
   },
   "outputs": [
    {
     "data": {
      "text/plain": [
       "<tf.Tensor: shape=(10, 1), dtype=int64, numpy=\n",
       "array([[0],\n",
       "       [1],\n",
       "       [2],\n",
       "       [3],\n",
       "       [4],\n",
       "       [5],\n",
       "       [6],\n",
       "       [7],\n",
       "       [8],\n",
       "       [9]])>"
      ]
     },
     "execution_count": 63,
     "metadata": {},
     "output_type": "execute_result"
    }
   ],
   "source": [
    "a"
   ]
  },
  {
   "cell_type": "code",
   "execution_count": 67,
   "id": "indie-trout",
   "metadata": {},
   "outputs": [
    {
     "data": {
      "text/plain": [
       "TensorShape([1, 10])"
      ]
     },
     "execution_count": 67,
     "metadata": {},
     "output_type": "execute_result"
    }
   ],
   "source": [
    "# 在axis=0的维度上增加维度\n",
    "a = tf.constant(np.arange(10))\n",
    "a = tf.expand_dims(a, 0)\n",
    "a.shape"
   ]
  },
  {
   "cell_type": "code",
   "execution_count": 68,
   "id": "funny-october",
   "metadata": {},
   "outputs": [
    {
     "data": {
      "text/plain": [
       "<tf.Tensor: shape=(1, 10), dtype=int64, numpy=array([[0, 1, 2, 3, 4, 5, 6, 7, 8, 9]])>"
      ]
     },
     "execution_count": 68,
     "metadata": {},
     "output_type": "execute_result"
    }
   ],
   "source": [
    "a"
   ]
  },
  {
   "cell_type": "markdown",
   "id": "democratic-convertible",
   "metadata": {},
   "source": [
    "## 张量转置\n",
    "\n",
    "`tf.transpose(input, perm)`\n",
    "\n",
    "perm: 轴的顺序，比如[0, 1], [1, 0]\n",
    "\n",
    "转置不仅改变了张量的视图，也改变了张量的顺序"
   ]
  },
  {
   "cell_type": "code",
   "execution_count": 69,
   "id": "asian-optimum",
   "metadata": {},
   "outputs": [
    {
     "data": {
      "text/plain": [
       "<tf.Tensor: shape=(3, 4), dtype=int64, numpy=\n",
       "array([[ 0,  1,  2,  3],\n",
       "       [ 4,  5,  6,  7],\n",
       "       [ 8,  9, 10, 11]])>"
      ]
     },
     "execution_count": 69,
     "metadata": {},
     "output_type": "execute_result"
    }
   ],
   "source": [
    "a = tf.constant(np.arange(12).reshape(3, 4))\n",
    "a"
   ]
  },
  {
   "cell_type": "code",
   "execution_count": 71,
   "id": "directed-kinase",
   "metadata": {},
   "outputs": [
    {
     "data": {
      "text/plain": [
       "<tf.Tensor: shape=(3, 4), dtype=int64, numpy=\n",
       "array([[ 0,  1,  2,  3],\n",
       "       [ 4,  5,  6,  7],\n",
       "       [ 8,  9, 10, 11]])>"
      ]
     },
     "execution_count": 71,
     "metadata": {},
     "output_type": "execute_result"
    }
   ],
   "source": [
    "a = tf.constant(np.arange(12).reshape(3, 4))\n",
    "a = tf.transpose(a, [0, 1]) #轴的顺序没有变\n",
    "a"
   ]
  },
  {
   "cell_type": "code",
   "execution_count": 72,
   "id": "creative-catalyst",
   "metadata": {},
   "outputs": [
    {
     "data": {
      "text/plain": [
       "<tf.Tensor: shape=(4, 3), dtype=int64, numpy=\n",
       "array([[ 0,  4,  8],\n",
       "       [ 1,  5,  9],\n",
       "       [ 2,  6, 10],\n",
       "       [ 3,  7, 11]])>"
      ]
     },
     "execution_count": 72,
     "metadata": {},
     "output_type": "execute_result"
    }
   ],
   "source": [
    "a = tf.constant(np.arange(12).reshape(3, 4))\n",
    "a = tf.transpose(a, [1, 0])\n",
    "a"
   ]
  },
  {
   "cell_type": "code",
   "execution_count": 73,
   "id": "cultural-stake",
   "metadata": {},
   "outputs": [
    {
     "data": {
      "text/plain": [
       "<tf.Tensor: shape=(4, 3), dtype=int64, numpy=\n",
       "array([[ 0,  4,  8],\n",
       "       [ 1,  5,  9],\n",
       "       [ 2,  6, 10],\n",
       "       [ 3,  7, 11]])>"
      ]
     },
     "execution_count": 73,
     "metadata": {},
     "output_type": "execute_result"
    }
   ],
   "source": [
    "a = tf.constant(np.arange(12).reshape(3, 4))\n",
    "a = tf.transpose(a)\n",
    "a"
   ]
  },
  {
   "cell_type": "markdown",
   "id": "corresponding-majority",
   "metadata": {},
   "source": [
    "## 张量拼接和分割\n",
    "\n",
    "`tf.concat(tensors, axis)`\n",
    "\n",
    "tensors: 张量列表\n",
    "\n",
    "axis: 拼接的轴\n",
    "\n",
    "拼接并不会增加新的维度\n",
    "\n",
    "拼接和分割改变了张量的视图，但张量的存储顺序并没有改变。"
   ]
  },
  {
   "cell_type": "code",
   "execution_count": 77,
   "id": "educational-insulin",
   "metadata": {},
   "outputs": [
    {
     "name": "stdout",
     "output_type": "stream",
     "text": [
      "tf.Tensor(\n",
      "[[0 1 2]\n",
      " [3 4 5]], shape=(2, 3), dtype=int32) tf.Tensor(\n",
      "[[10 11 12]\n",
      " [13 14 15]], shape=(2, 3), dtype=int32)\n"
     ]
    }
   ],
   "source": [
    "a = tf.reshape(tf.range(6), [2, 3])\n",
    "b = tf.reshape(tf.range(10, 16), [2, 3])\n",
    "print(a, b)"
   ]
  },
  {
   "cell_type": "code",
   "execution_count": 78,
   "id": "naughty-legend",
   "metadata": {},
   "outputs": [
    {
     "data": {
      "text/plain": [
       "<tf.Tensor: shape=(4, 3), dtype=int32, numpy=\n",
       "array([[ 0,  1,  2],\n",
       "       [ 3,  4,  5],\n",
       "       [10, 11, 12],\n",
       "       [13, 14, 15]], dtype=int32)>"
      ]
     },
     "execution_count": 78,
     "metadata": {},
     "output_type": "execute_result"
    }
   ],
   "source": [
    "tf.concat([a, b], 0) # 可以看到轴0上的长度增加了"
   ]
  },
  {
   "cell_type": "code",
   "execution_count": 79,
   "id": "turned-appeal",
   "metadata": {},
   "outputs": [
    {
     "data": {
      "text/plain": [
       "<tf.Tensor: shape=(2, 6), dtype=int32, numpy=\n",
       "array([[ 0,  1,  2, 10, 11, 12],\n",
       "       [ 3,  4,  5, 13, 14, 15]], dtype=int32)>"
      ]
     },
     "execution_count": 79,
     "metadata": {},
     "output_type": "execute_result"
    }
   ],
   "source": [
    "tf.concat([a, b], 1) # 可以看到轴1上的长度增加了"
   ]
  },
  {
   "cell_type": "code",
   "execution_count": 80,
   "id": "weird-bahamas",
   "metadata": {},
   "outputs": [
    {
     "data": {
      "text/plain": [
       "<tf.Tensor: shape=(2, 6), dtype=int32, numpy=\n",
       "array([[ 0,  1,  2, 10, 11, 12],\n",
       "       [ 3,  4,  5, 13, 14, 15]], dtype=int32)>"
      ]
     },
     "execution_count": 80,
     "metadata": {},
     "output_type": "execute_result"
    }
   ],
   "source": [
    "tf.concat([a, b], -1) # 可以看到最后一个轴上的长度增加了"
   ]
  },
  {
   "cell_type": "markdown",
   "id": "incoming-survey",
   "metadata": {},
   "source": [
    "`tf.split(value, num_or_size_splits, axis=0)`\n",
    "\n",
    "value: 待分割的张量\n",
    "\n",
    "num_or_size_splits: 如果是一个数值，就是分为几份；如果是一个列表，则是每份的维度长度\n",
    "\n",
    "axis: 分割的轴方向"
   ]
  },
  {
   "cell_type": "code",
   "execution_count": 83,
   "id": "insured-kitchen",
   "metadata": {},
   "outputs": [
    {
     "data": {
      "text/plain": [
       "<tf.Tensor: shape=(4, 6), dtype=int32, numpy=\n",
       "array([[ 0,  1,  2,  3,  4,  5],\n",
       "       [ 6,  7,  8,  9, 10, 11],\n",
       "       [12, 13, 14, 15, 16, 17],\n",
       "       [18, 19, 20, 21, 22, 23]], dtype=int32)>"
      ]
     },
     "execution_count": 83,
     "metadata": {},
     "output_type": "execute_result"
    }
   ],
   "source": [
    "a = tf.reshape(tf.range(24), [4, 6])\n",
    "a"
   ]
  },
  {
   "cell_type": "code",
   "execution_count": 81,
   "id": "descending-eating",
   "metadata": {},
   "outputs": [
    {
     "data": {
      "text/plain": [
       "[<tf.Tensor: shape=(2, 6), dtype=int32, numpy=\n",
       " array([[ 0,  1,  2,  3,  4,  5],\n",
       "        [ 6,  7,  8,  9, 10, 11]], dtype=int32)>,\n",
       " <tf.Tensor: shape=(2, 6), dtype=int32, numpy=\n",
       " array([[12, 13, 14, 15, 16, 17],\n",
       "        [18, 19, 20, 21, 22, 23]], dtype=int32)>]"
      ]
     },
     "execution_count": 81,
     "metadata": {},
     "output_type": "execute_result"
    }
   ],
   "source": [
    "a = tf.reshape(tf.range(24), [4, 6])\n",
    "tf.split(a, 2, 0)"
   ]
  },
  {
   "cell_type": "code",
   "execution_count": 82,
   "id": "relative-player",
   "metadata": {},
   "outputs": [
    {
     "data": {
      "text/plain": [
       "[<tf.Tensor: shape=(4, 3), dtype=int32, numpy=\n",
       " array([[ 0,  1,  2],\n",
       "        [ 6,  7,  8],\n",
       "        [12, 13, 14],\n",
       "        [18, 19, 20]], dtype=int32)>,\n",
       " <tf.Tensor: shape=(4, 3), dtype=int32, numpy=\n",
       " array([[ 3,  4,  5],\n",
       "        [ 9, 10, 11],\n",
       "        [15, 16, 17],\n",
       "        [21, 22, 23]], dtype=int32)>]"
      ]
     },
     "execution_count": 82,
     "metadata": {},
     "output_type": "execute_result"
    }
   ],
   "source": [
    "a = tf.reshape(tf.range(24), [4, 6])\n",
    "tf.split(a, 2, 1)"
   ]
  },
  {
   "cell_type": "code",
   "execution_count": 86,
   "id": "flexible-recycling",
   "metadata": {},
   "outputs": [
    {
     "data": {
      "text/plain": [
       "[<tf.Tensor: shape=(4, 2), dtype=int32, numpy=\n",
       " array([[ 0,  1],\n",
       "        [ 6,  7],\n",
       "        [12, 13],\n",
       "        [18, 19]], dtype=int32)>,\n",
       " <tf.Tensor: shape=(4, 2), dtype=int32, numpy=\n",
       " array([[ 2,  3],\n",
       "        [ 8,  9],\n",
       "        [14, 15],\n",
       "        [20, 21]], dtype=int32)>,\n",
       " <tf.Tensor: shape=(4, 2), dtype=int32, numpy=\n",
       " array([[ 4,  5],\n",
       "        [10, 11],\n",
       "        [16, 17],\n",
       "        [22, 23]], dtype=int32)>]"
      ]
     },
     "execution_count": 86,
     "metadata": {},
     "output_type": "execute_result"
    }
   ],
   "source": [
    "a = tf.reshape(tf.range(24), [4, 6])\n",
    "tf.split(a, [2, 2, 2], 1)"
   ]
  },
  {
   "cell_type": "markdown",
   "id": "integral-doctrine",
   "metadata": {},
   "source": [
    "## 张量堆叠和分解\n",
    "\n",
    "`tf.stack(values, axis)`\n",
    "\n",
    "values: 待堆叠的张量\n",
    "\n",
    "axis: 堆叠方向\n",
    "\n",
    "堆叠和分解会改变维度"
   ]
  },
  {
   "cell_type": "code",
   "execution_count": 87,
   "id": "concrete-machine",
   "metadata": {},
   "outputs": [
    {
     "data": {
      "text/plain": [
       "<tf.Tensor: shape=(2, 6), dtype=int32, numpy=\n",
       "array([[ 0,  1,  2,  3,  4,  5],\n",
       "       [10, 11, 12, 13, 14, 15]], dtype=int32)>"
      ]
     },
     "execution_count": 87,
     "metadata": {},
     "output_type": "execute_result"
    }
   ],
   "source": [
    "a = tf.range(6)\n",
    "b = tf.range(10, 16)\n",
    "tf.stack([a, b], 0)"
   ]
  },
  {
   "cell_type": "code",
   "execution_count": 88,
   "id": "reserved-recommendation",
   "metadata": {},
   "outputs": [
    {
     "data": {
      "text/plain": [
       "<tf.Tensor: shape=(6, 2), dtype=int32, numpy=\n",
       "array([[ 0, 10],\n",
       "       [ 1, 11],\n",
       "       [ 2, 12],\n",
       "       [ 3, 13],\n",
       "       [ 4, 14],\n",
       "       [ 5, 15]], dtype=int32)>"
      ]
     },
     "execution_count": 88,
     "metadata": {},
     "output_type": "execute_result"
    }
   ],
   "source": [
    "a = tf.range(6)\n",
    "b = tf.range(10, 16)\n",
    "tf.stack([a, b], 1)"
   ]
  },
  {
   "cell_type": "markdown",
   "id": "demographic-execution",
   "metadata": {},
   "source": [
    "`tf.unstack(values, axis)`\n",
    "\n",
    "values: 待分解的张量\n",
    "\n",
    "axis: 分解的轴方向\n",
    "\n",
    "张量分解是张量堆叠的逆运算，分解后的张量都比原张量少了1维"
   ]
  },
  {
   "cell_type": "code",
   "execution_count": 89,
   "id": "dutch-humor",
   "metadata": {},
   "outputs": [
    {
     "data": {
      "text/plain": [
       "<tf.Tensor: shape=(3, 4), dtype=int32, numpy=\n",
       "array([[ 0,  1,  2,  3],\n",
       "       [ 4,  5,  6,  7],\n",
       "       [ 8,  9, 10, 11]], dtype=int32)>"
      ]
     },
     "execution_count": 89,
     "metadata": {},
     "output_type": "execute_result"
    }
   ],
   "source": [
    "a = tf.reshape(tf.range(12), [3, 4])\n",
    "a"
   ]
  },
  {
   "cell_type": "code",
   "execution_count": 91,
   "id": "unsigned-certification",
   "metadata": {},
   "outputs": [
    {
     "data": {
      "text/plain": [
       "[<tf.Tensor: shape=(4,), dtype=int32, numpy=array([0, 1, 2, 3], dtype=int32)>,\n",
       " <tf.Tensor: shape=(4,), dtype=int32, numpy=array([4, 5, 6, 7], dtype=int32)>,\n",
       " <tf.Tensor: shape=(4,), dtype=int32, numpy=array([ 8,  9, 10, 11], dtype=int32)>]"
      ]
     },
     "execution_count": 91,
     "metadata": {},
     "output_type": "execute_result"
    }
   ],
   "source": [
    "a = tf.reshape(tf.range(12), [3, 4])\n",
    "tf.unstack(a, axis=0)"
   ]
  },
  {
   "cell_type": "code",
   "execution_count": 92,
   "id": "suburban-dimension",
   "metadata": {
    "scrolled": true
   },
   "outputs": [
    {
     "data": {
      "text/plain": [
       "[<tf.Tensor: shape=(3,), dtype=int32, numpy=array([0, 4, 8], dtype=int32)>,\n",
       " <tf.Tensor: shape=(3,), dtype=int32, numpy=array([1, 5, 9], dtype=int32)>,\n",
       " <tf.Tensor: shape=(3,), dtype=int32, numpy=array([ 2,  6, 10], dtype=int32)>,\n",
       " <tf.Tensor: shape=(3,), dtype=int32, numpy=array([ 3,  7, 11], dtype=int32)>]"
      ]
     },
     "execution_count": 92,
     "metadata": {},
     "output_type": "execute_result"
    }
   ],
   "source": [
    "a = tf.reshape(tf.range(12), [3, 4])\n",
    "tf.unstack(a, axis=1)"
   ]
  },
  {
   "cell_type": "markdown",
   "id": "necessary-syndrome",
   "metadata": {},
   "source": [
    "## 张量索引和切片\n",
    "\n",
    "张量索引和切片的方法与numpy数组几乎完全一样\n",
    "\n",
    "索引：\n",
    "\n",
    "* 一维张量\n",
    "\n",
    "a[1]\n",
    "\n",
    "* 二维张量\n",
    "\n",
    "b[1, 1]\n",
    "\n",
    "b[1][1]\n",
    "\n",
    "* 三维张量\n",
    "\n",
    "c[1, 1, 1]\n",
    "\n",
    "c[1][1][1]\n",
    "\n",
    "切片：\n",
    "\n",
    "a(start:end:step) 前闭后开，三个数都可以省略"
   ]
  },
  {
   "cell_type": "code",
   "execution_count": 94,
   "id": "excess-thesaurus",
   "metadata": {},
   "outputs": [
    {
     "data": {
      "text/plain": [
       "<tf.Tensor: shape=(10,), dtype=int32, numpy=array([0, 1, 2, 3, 4, 5, 6, 7, 8, 9], dtype=int32)>"
      ]
     },
     "execution_count": 94,
     "metadata": {},
     "output_type": "execute_result"
    }
   ],
   "source": [
    "a = tf.range(10)\n",
    "a[::]"
   ]
  },
  {
   "cell_type": "code",
   "execution_count": 95,
   "id": "light-austria",
   "metadata": {},
   "outputs": [
    {
     "data": {
      "text/plain": [
       "<tf.Tensor: shape=(5,), dtype=int32, numpy=array([1, 3, 5, 7, 9], dtype=int32)>"
      ]
     },
     "execution_count": 95,
     "metadata": {},
     "output_type": "execute_result"
    }
   ],
   "source": [
    "a = tf.range(10)\n",
    "a[1::2]"
   ]
  },
  {
   "cell_type": "code",
   "execution_count": 96,
   "id": "wireless-berry",
   "metadata": {},
   "outputs": [
    {
     "data": {
      "text/plain": [
       "<tf.Tensor: shape=(5,), dtype=int32, numpy=array([9, 7, 5, 3, 1], dtype=int32)>"
      ]
     },
     "execution_count": 96,
     "metadata": {},
     "output_type": "execute_result"
    }
   ],
   "source": [
    "a = tf.range(10)\n",
    "a[::-2]"
   ]
  },
  {
   "cell_type": "markdown",
   "id": "sudden-commons",
   "metadata": {},
   "source": [
    "二维切片时，维度之间用`,`隔开\n",
    "\n",
    "```\n",
    "#假设我们有一个2维数据\n",
    "import numpy as np\n",
    "import pandas as pd\n",
    "import tensorflow as tf\n",
    "\n",
    "df_data = pd.read_csv(\"data.csv\")\n",
    "np_data = np.array(df_data)\n",
    "data = tf.convert_to_tensor(np_data)\n",
    "\n",
    "#读取第一个样本的所有列\n",
    "data[0, :]\n",
    "\n",
    "#读取前5个样本的前4列\n",
    "data[0:5, 0:4]\n",
    "\n",
    "#读取所有样本的第一列\n",
    "data[:, 0]\n",
    "```\n",
    "\n",
    "3维张量切片则为\n",
    "\n",
    "`data[0:10, :, :]` 比如为前10个图片的所有像素"
   ]
  },
  {
   "cell_type": "markdown",
   "id": "judicial-netscape",
   "metadata": {},
   "source": [
    "## 张量数据提取\n",
    "\n",
    "`tf.gather(params, indices)` 用一个索引列表，将给定张量中对应索引值的元素提取出来\n",
    "\n",
    "params: 给定张量\n",
    "\n",
    "indices：索引列表"
   ]
  },
  {
   "cell_type": "code",
   "execution_count": 2,
   "id": "empirical-grenada",
   "metadata": {},
   "outputs": [
    {
     "name": "stdout",
     "output_type": "stream",
     "text": [
      "INFO:tensorflow:Enabling eager execution\n",
      "INFO:tensorflow:Enabling v2 tensorshape\n",
      "INFO:tensorflow:Enabling resource variables\n",
      "INFO:tensorflow:Enabling tensor equality\n",
      "INFO:tensorflow:Enabling control flow v2\n"
     ]
    },
    {
     "data": {
      "text/plain": [
       "<tf.Tensor: shape=(3,), dtype=int32, numpy=array([0, 2, 4], dtype=int32)>"
      ]
     },
     "execution_count": 2,
     "metadata": {},
     "output_type": "execute_result"
    }
   ],
   "source": [
    "import tensorflow as tf\n",
    "\n",
    "a = tf.range(6)\n",
    "tf.gather(a, indices=[0, 2, 4])"
   ]
  },
  {
   "cell_type": "markdown",
   "id": "democratic-governor",
   "metadata": {},
   "source": [
    "对多维张量提取，`tf.gather(params, axis, indices)`\n",
    "\n",
    "axis: 提取的轴方向"
   ]
  },
  {
   "cell_type": "code",
   "execution_count": 3,
   "id": "beginning-builder",
   "metadata": {},
   "outputs": [
    {
     "data": {
      "text/plain": [
       "<tf.Tensor: shape=(5, 5), dtype=int32, numpy=\n",
       "array([[ 0,  1,  2,  3,  4],\n",
       "       [ 5,  6,  7,  8,  9],\n",
       "       [10, 11, 12, 13, 14],\n",
       "       [15, 16, 17, 18, 19],\n",
       "       [20, 21, 22, 23, 24]], dtype=int32)>"
      ]
     },
     "execution_count": 3,
     "metadata": {},
     "output_type": "execute_result"
    }
   ],
   "source": [
    "a = tf.reshape(tf.range(25), [5, 5])\n",
    "a"
   ]
  },
  {
   "cell_type": "code",
   "execution_count": 5,
   "id": "miniature-planet",
   "metadata": {},
   "outputs": [
    {
     "data": {
      "text/plain": [
       "<tf.Tensor: shape=(3, 5), dtype=int32, numpy=\n",
       "array([[ 0,  1,  2,  3,  4],\n",
       "       [10, 11, 12, 13, 14],\n",
       "       [15, 16, 17, 18, 19]], dtype=int32)>"
      ]
     },
     "execution_count": 5,
     "metadata": {},
     "output_type": "execute_result"
    }
   ],
   "source": [
    "tf.gather(a, axis=0, indices=[0, 2, 3])"
   ]
  },
  {
   "cell_type": "code",
   "execution_count": 6,
   "id": "effective-trading",
   "metadata": {},
   "outputs": [
    {
     "data": {
      "text/plain": [
       "<tf.Tensor: shape=(5, 3), dtype=int32, numpy=\n",
       "array([[ 0,  2,  3],\n",
       "       [ 5,  7,  8],\n",
       "       [10, 12, 13],\n",
       "       [15, 17, 18],\n",
       "       [20, 22, 23]], dtype=int32)>"
      ]
     },
     "execution_count": 6,
     "metadata": {},
     "output_type": "execute_result"
    }
   ],
   "source": [
    "tf.gather(a, axis=1, indices=[0, 2, 3])"
   ]
  },
  {
   "cell_type": "markdown",
   "id": "legal-efficiency",
   "metadata": {},
   "source": [
    "`tf.gather()`只能对一个维度索引，而`tf.gather_nd()`能同时对多个维度索引"
   ]
  },
  {
   "cell_type": "code",
   "execution_count": 7,
   "id": "military-check",
   "metadata": {},
   "outputs": [
    {
     "data": {
      "text/plain": [
       "<tf.Tensor: shape=(3,), dtype=int32, numpy=array([ 0,  6, 12], dtype=int32)>"
      ]
     },
     "execution_count": 7,
     "metadata": {},
     "output_type": "execute_result"
    }
   ],
   "source": [
    "tf.gather_nd(a, [[0, 0], [1, 1], [2, 2]])"
   ]
  },
  {
   "cell_type": "markdown",
   "id": "polar-defense",
   "metadata": {},
   "source": [
    "```\n",
    "#如果a是一个3维的图像集数据\n",
    "tf.gather_nd(a, [[0], [1]], [2]) 代表前3个图像\n",
    "```"
   ]
  },
  {
   "cell_type": "markdown",
   "id": "pleasant-saturn",
   "metadata": {},
   "source": [
    "## 张量运算\n",
    "\n",
    "张量运算的这些函数接口不统一，有的在math模块下，最好涉及数学运算的都加上math. 张量运算要求各个张量的元素数据类型必须一致.\n",
    "\n",
    "**加减乘除**\n",
    "\n",
    "\n",
    "\n",
    "| 算术操作          | 描述             |\n",
    "| :----------------- | :---------------- |\n",
    "| tf.add(x, y)      | 将x和y逐元素相加 |\n",
    "| tf.subtract(x, y) | 将x和y逐元素相减 |\n",
    "| tf.multiply(x, y) | 将x和y逐元素相乘 |\n",
    "| tf.divide(x, y)   | 将x和y逐元素相除 |\n",
    "| tf.floordiv(x, y)   | 将x和y逐元素相除取商，类似x//y |\n",
    "| tf.math.mod(x, y) | 对x逐元素取模    |\n"
   ]
  },
  {
   "cell_type": "code",
   "execution_count": 8,
   "id": "announced-country",
   "metadata": {},
   "outputs": [
    {
     "data": {
      "text/plain": [
       "<tf.Tensor: shape=(4,), dtype=int32, numpy=array([11, 13, 14, 18], dtype=int32)>"
      ]
     },
     "execution_count": 8,
     "metadata": {},
     "output_type": "execute_result"
    }
   ],
   "source": [
    "import tensorflow as tf\n",
    "\n",
    "a = tf.constant([0, 1, 2, 3])\n",
    "b = tf.constant([11, 12, 12, 15])\n",
    "tf.add(a, b)"
   ]
  },
  {
   "cell_type": "code",
   "execution_count": 9,
   "id": "perceived-tanzania",
   "metadata": {},
   "outputs": [
    {
     "data": {
      "text/plain": [
       "<tf.Tensor: shape=(4,), dtype=int32, numpy=array([11, 11, 10, 12], dtype=int32)>"
      ]
     },
     "execution_count": 9,
     "metadata": {},
     "output_type": "execute_result"
    }
   ],
   "source": [
    "tf.subtract(b, a)"
   ]
  },
  {
   "cell_type": "code",
   "execution_count": 10,
   "id": "indirect-cathedral",
   "metadata": {},
   "outputs": [
    {
     "data": {
      "text/plain": [
       "<tf.Tensor: shape=(4,), dtype=int32, numpy=array([ 0, 12, 24, 45], dtype=int32)>"
      ]
     },
     "execution_count": 10,
     "metadata": {},
     "output_type": "execute_result"
    }
   ],
   "source": [
    "tf.multiply(a, b)"
   ]
  },
  {
   "cell_type": "code",
   "execution_count": 11,
   "id": "outer-broadcast",
   "metadata": {},
   "outputs": [
    {
     "data": {
      "text/plain": [
       "<tf.Tensor: shape=(4,), dtype=float64, numpy=array([0.        , 0.08333333, 0.16666667, 0.2       ])>"
      ]
     },
     "execution_count": 11,
     "metadata": {},
     "output_type": "execute_result"
    }
   ],
   "source": [
    "tf.divide(a, b)"
   ]
  },
  {
   "cell_type": "code",
   "execution_count": 12,
   "id": "illegal-polls",
   "metadata": {},
   "outputs": [
    {
     "data": {
      "text/plain": [
       "<tf.Tensor: shape=(4,), dtype=int32, numpy=array([0, 1, 2, 3], dtype=int32)>"
      ]
     },
     "execution_count": 12,
     "metadata": {},
     "output_type": "execute_result"
    }
   ],
   "source": [
    "tf.math.mod(a, b)"
   ]
  },
  {
   "cell_type": "markdown",
   "id": "acute-board",
   "metadata": {},
   "source": [
    "**幂指对数运算**\n",
    "\n",
    "| 算术操作       | 描述                  |\n",
    "| :------------- | :-------------------- |\n",
    "| tf.pow(x, y)   | 对x求y的幂次方        |\n",
    "| tf.square(x)   | 将x逐元素求平方       |\n",
    "| tf.sqrt(x)     | 将x逐元素求平方根     |\n",
    "| tf.exp(x)      | 计算e的x次方          |\n",
    "| tf.math.log(x) | 计算底数为e的自然对数 |\n"
   ]
  },
  {
   "cell_type": "code",
   "execution_count": 47,
   "id": "healthy-apartment",
   "metadata": {},
   "outputs": [
    {
     "data": {
      "text/plain": [
       "<tf.Tensor: shape=(4,), dtype=int32, numpy=array([0, 1, 4, 9], dtype=int32)>"
      ]
     },
     "execution_count": 47,
     "metadata": {},
     "output_type": "execute_result"
    }
   ],
   "source": [
    "a = tf.constant([0, 1, 2, 3])\n",
    "tf.math.pow(a, 2)"
   ]
  },
  {
   "cell_type": "code",
   "execution_count": 16,
   "id": "danish-soldier",
   "metadata": {},
   "outputs": [
    {
     "data": {
      "text/plain": [
       "<tf.Tensor: shape=(4,), dtype=int32, numpy=array([ 0,  1, 16,  9], dtype=int32)>"
      ]
     },
     "execution_count": 16,
     "metadata": {},
     "output_type": "execute_result"
    }
   ],
   "source": [
    "a = tf.constant([0, 1, 2, 3])\n",
    "b = tf.constant([2, 3, 4, 2])\n",
    "tf.pow(a, b)"
   ]
  },
  {
   "cell_type": "code",
   "execution_count": 18,
   "id": "faced-evanescence",
   "metadata": {},
   "outputs": [
    {
     "data": {
      "text/plain": [
       "<tf.Tensor: shape=(4,), dtype=float32, numpy=array([0.       , 1.       , 1.4142135, 1.7320508], dtype=float32)>"
      ]
     },
     "execution_count": 18,
     "metadata": {},
     "output_type": "execute_result"
    }
   ],
   "source": [
    "a = tf.constant([0, 1, 2, 3], dtype=tf.float32)\n",
    "tf.pow(a, 0.5)"
   ]
  },
  {
   "cell_type": "code",
   "execution_count": 48,
   "id": "meaningful-temperature",
   "metadata": {},
   "outputs": [
    {
     "data": {
      "text/plain": [
       "<tf.Tensor: shape=(4,), dtype=int32, numpy=array([0, 1, 4, 9], dtype=int32)>"
      ]
     },
     "execution_count": 48,
     "metadata": {},
     "output_type": "execute_result"
    }
   ],
   "source": [
    "a = tf.constant([0, 1, 2, 3])\n",
    "tf.math.square(a)"
   ]
  },
  {
   "cell_type": "code",
   "execution_count": 19,
   "id": "aboriginal-poverty",
   "metadata": {},
   "outputs": [
    {
     "data": {
      "text/plain": [
       "<tf.Tensor: shape=(4,), dtype=float32, numpy=array([0.       , 1.       , 1.4142135, 1.7320508], dtype=float32)>"
      ]
     },
     "execution_count": 19,
     "metadata": {},
     "output_type": "execute_result"
    }
   ],
   "source": [
    "a = tf.constant([0, 1, 2, 3], dtype=tf.float32)\n",
    "tf.sqrt(a)"
   ]
  },
  {
   "cell_type": "code",
   "execution_count": 21,
   "id": "muslim-planning",
   "metadata": {},
   "outputs": [
    {
     "data": {
      "text/plain": [
       "<tf.Tensor: shape=(), dtype=float32, numpy=2.7182817>"
      ]
     },
     "execution_count": 21,
     "metadata": {},
     "output_type": "execute_result"
    }
   ],
   "source": [
    "tf.exp(1.)"
   ]
  },
  {
   "cell_type": "code",
   "execution_count": 23,
   "id": "crucial-triple",
   "metadata": {},
   "outputs": [
    {
     "data": {
      "text/plain": [
       "<tf.Tensor: shape=(), dtype=float32, numpy=3.0>"
      ]
     },
     "execution_count": 23,
     "metadata": {},
     "output_type": "execute_result"
    }
   ],
   "source": [
    "a = tf.exp(3.)\n",
    "tf.math.log(a)"
   ]
  },
  {
   "cell_type": "markdown",
   "id": "available-consumption",
   "metadata": {},
   "source": [
    "tensorflow中只有以e的自然对数，如果要求以2为底的16的对数："
   ]
  },
  {
   "cell_type": "code",
   "execution_count": 25,
   "id": "superior-sword",
   "metadata": {},
   "outputs": [
    {
     "data": {
      "text/plain": [
       "<tf.Tensor: shape=(), dtype=float32, numpy=4.0>"
      ]
     },
     "execution_count": 25,
     "metadata": {},
     "output_type": "execute_result"
    }
   ],
   "source": [
    "a = tf.math.log(2.)\n",
    "b = tf.math.log(16.)\n",
    "b/a"
   ]
  },
  {
   "cell_type": "code",
   "execution_count": 26,
   "id": "acceptable-belly",
   "metadata": {},
   "outputs": [
    {
     "data": {
      "text/plain": [
       "<tf.Tensor: shape=(2, 2), dtype=float32, numpy=\n",
       "array([[0., 2.],\n",
       "       [4., 2.]], dtype=float32)>"
      ]
     },
     "execution_count": 26,
     "metadata": {},
     "output_type": "execute_result"
    }
   ],
   "source": [
    "a = tf.constant([[1., 9.], [16., 100]])\n",
    "b = tf.constant([[2., 3.], [2., 10.]])\n",
    "tf.math.log(a) / tf.math.log(b)"
   ]
  },
  {
   "cell_type": "markdown",
   "id": "honey-roller",
   "metadata": {},
   "source": [
    "| 算术操作          | 描述                     |\n",
    "| :---------------- | :----------------------- |\n",
    "| tf.math.sign(x)        | 返回x的符号              |\n",
    "| tf.math.abs(x)         | 将x逐元素求绝对值        |\n",
    "| tf.math.negative(x)    | 将x逐元素相反数， y = -x |\n",
    "| tf.math.reciprocal(x)  | 计算x的倒数        | \n",
    "| tf.math.logical_not(x) | 对x逐元素求逻辑非运算    |\n",
    "| tf.math.ceil(x)        | 向上取整           |\n",
    "| tf.math.floor(x)       | 向下取整                 |\n",
    "| tf.math.rint(x)        | 取最接近的整数         |\n",
    "| tf.math.round(x)       | 逐元素四舍五入最接近的整数   |\n",
    "| tf.math.maximun(x, y)  | 返回两tensor中的最大值   |\n",
    "| tf.math.minimun(x, y)  | 返回两tensor中的最小值   |"
   ]
  },
  {
   "cell_type": "code",
   "execution_count": 44,
   "id": "specialized-andorra",
   "metadata": {},
   "outputs": [
    {
     "data": {
      "text/plain": [
       "<tf.Tensor: shape=(4,), dtype=float32, numpy=array([1., 1., 1., 1.], dtype=float32)>"
      ]
     },
     "execution_count": 44,
     "metadata": {},
     "output_type": "execute_result"
    }
   ],
   "source": [
    "tf.math.sign(a)"
   ]
  },
  {
   "cell_type": "code",
   "execution_count": 40,
   "id": "published-poker",
   "metadata": {},
   "outputs": [
    {
     "data": {
      "text/plain": [
       "<tf.Tensor: shape=(4,), dtype=float32, numpy=array([0., 2., 4., 5.], dtype=float32)>"
      ]
     },
     "execution_count": 40,
     "metadata": {},
     "output_type": "execute_result"
    }
   ],
   "source": [
    "a = tf.constant([0.1, 2.2, 4.5, 5.6])\n",
    "tf.math.floor(a)"
   ]
  },
  {
   "cell_type": "code",
   "execution_count": 37,
   "id": "molecular-westminster",
   "metadata": {},
   "outputs": [
    {
     "data": {
      "text/plain": [
       "<tf.Tensor: shape=(4,), dtype=float32, numpy=array([1., 3., 5., 6.], dtype=float32)>"
      ]
     },
     "execution_count": 37,
     "metadata": {},
     "output_type": "execute_result"
    }
   ],
   "source": [
    "tf.math.ceil(a)"
   ]
  },
  {
   "cell_type": "code",
   "execution_count": 41,
   "id": "south-franchise",
   "metadata": {},
   "outputs": [
    {
     "data": {
      "text/plain": [
       "<tf.Tensor: shape=(4,), dtype=float32, numpy=array([0., 2., 4., 6.], dtype=float32)>"
      ]
     },
     "execution_count": 41,
     "metadata": {},
     "output_type": "execute_result"
    }
   ],
   "source": [
    "tf.math.round(a)"
   ]
  },
  {
   "cell_type": "code",
   "execution_count": 38,
   "id": "formal-saskatchewan",
   "metadata": {},
   "outputs": [
    {
     "data": {
      "text/plain": [
       "<tf.Tensor: shape=(4,), dtype=float32, numpy=array([0., 2., 4., 6.], dtype=float32)>"
      ]
     },
     "execution_count": 38,
     "metadata": {},
     "output_type": "execute_result"
    }
   ],
   "source": [
    "tf.math.rint(a)"
   ]
  },
  {
   "cell_type": "code",
   "execution_count": 42,
   "id": "still-reference",
   "metadata": {},
   "outputs": [
    {
     "data": {
      "text/plain": [
       "<tf.Tensor: shape=(4,), dtype=float32, numpy=array([-0.1, -2.2, -4.5, -5.6], dtype=float32)>"
      ]
     },
     "execution_count": 42,
     "metadata": {},
     "output_type": "execute_result"
    }
   ],
   "source": [
    "tf.math.negative(a)"
   ]
  },
  {
   "cell_type": "code",
   "execution_count": 36,
   "id": "attached-watson",
   "metadata": {},
   "outputs": [
    {
     "data": {
      "text/plain": [
       "<tf.Tensor: shape=(4,), dtype=float32, numpy=array([10.        ,  0.45454544,  0.22222222,  0.17857143], dtype=float32)>"
      ]
     },
     "execution_count": 36,
     "metadata": {},
     "output_type": "execute_result"
    }
   ],
   "source": [
    "tf.math.reciprocal(a)"
   ]
  },
  {
   "cell_type": "code",
   "execution_count": 39,
   "id": "facial-hundred",
   "metadata": {
    "scrolled": true
   },
   "outputs": [
    {
     "data": {
      "text/plain": [
       "<tf.Tensor: shape=(4,), dtype=float32, numpy=array([0.1, 2.2, 4.5, 5.6], dtype=float32)>"
      ]
     },
     "execution_count": 39,
     "metadata": {},
     "output_type": "execute_result"
    }
   ],
   "source": [
    "tf.math.maximum(a, a)"
   ]
  },
  {
   "cell_type": "markdown",
   "id": "emerging-corps",
   "metadata": {},
   "source": [
    "**三角函数与反三角函数运算**\n",
    "\n",
    "| 函数       | 描述             |\n",
    "| :--------- | :--------------- |\n",
    "| tf.cos(x)  | 三角函数cos      |\n",
    "| tf.sin(x)  | 三角函数sin      |\n",
    "| tf.tan(x)  | 三角函数tan      |\n",
    "| tf.acos(x) | 反三角函数arccos |\n",
    "| tf.asin(x) | 反三角函数arcsin |\n",
    "| tf.atan(x) | 反三角函数arctan |\n"
   ]
  },
  {
   "cell_type": "code",
   "execution_count": 52,
   "id": "elegant-hunter",
   "metadata": {},
   "outputs": [
    {
     "data": {
      "text/plain": [
       "<tf.Tensor: shape=(3,), dtype=float32, numpy=array([0.84147096, 0.9092974 , 0.14112   ], dtype=float32)>"
      ]
     },
     "execution_count": 52,
     "metadata": {},
     "output_type": "execute_result"
    }
   ],
   "source": [
    "a = tf.constant([1., 2., 3.])\n",
    "tf.math.sin(a)"
   ]
  },
  {
   "cell_type": "code",
   "execution_count": 53,
   "id": "composed-administration",
   "metadata": {
    "scrolled": true
   },
   "outputs": [
    {
     "data": {
      "text/plain": [
       "<tf.Tensor: shape=(3,), dtype=float32, numpy=array([0.84147096, 0.9092974 , 0.14112   ], dtype=float32)>"
      ]
     },
     "execution_count": 53,
     "metadata": {},
     "output_type": "execute_result"
    }
   ],
   "source": [
    "a = tf.constant([1., 2., 3.])\n",
    "tf.sin(a)"
   ]
  },
  {
   "cell_type": "markdown",
   "id": "norwegian-dairy",
   "metadata": {},
   "source": [
    "**运算符重载**\n",
    "\n",
    "| 运算符 | 构造方法                    |\n",
    "| :----- | :-------------------------- |\n",
    "| x + y  | tf.math.add(x, y)           |\n",
    "| x - y  | tf.math.subtract(x, y)      |\n",
    "| x * y  | tf.math.multiply(x, y)      |\n",
    "| x / y  | tf.math.divide(x, y)        |\n",
    "| x // y | tf.math.floordiv(x, y)      |\n",
    "| x % y  | tf.math.mod(x, y)           |\n",
    "| x ** y | tf.math.pow(x, y)           |\n",
    "| -x     | tf.math.negative(x)         |\n",
    "| abs(x) | tf.math.abs(x)              |\n",
    "| x & y  | tf.math.logical_and(x, y)   |\n",
    "| x \\| y | tf.math.logical_or(x, y)    |\n",
    "| x ^ y  | tf.math.logical_xor(x, y)   |\n",
    "| ~ x    | tf.math.logical_not(x)      |\n",
    "| x < y  | tf.math.less(x, y)          |\n",
    "| x <= y | tf.math.less_equal(x, y)    |\n",
    "| x > y  | tf.math.greater(x, y)       |\n",
    "| x >= y | tf.math.greater_equal(x, y) |\n"
   ]
  },
  {
   "cell_type": "code",
   "execution_count": 58,
   "id": "animated-bachelor",
   "metadata": {},
   "outputs": [
    {
     "data": {
      "text/plain": [
       "<tf.Tensor: shape=(3,), dtype=int32, numpy=array([ 4, 10, 18], dtype=int32)>"
      ]
     },
     "execution_count": 58,
     "metadata": {},
     "output_type": "execute_result"
    }
   ],
   "source": [
    "a = tf.constant([1, 2, 3])\n",
    "b = tf.constant([4, 5, 6])\n",
    "a * b"
   ]
  },
  {
   "cell_type": "code",
   "execution_count": 59,
   "id": "pregnant-schema",
   "metadata": {},
   "outputs": [
    {
     "data": {
      "text/plain": [
       "<tf.Tensor: shape=(3,), dtype=float64, numpy=array([0.25, 0.4 , 0.5 ])>"
      ]
     },
     "execution_count": 59,
     "metadata": {},
     "output_type": "execute_result"
    }
   ],
   "source": [
    "a / b"
   ]
  },
  {
   "cell_type": "code",
   "execution_count": 60,
   "id": "empirical-disclaimer",
   "metadata": {},
   "outputs": [
    {
     "data": {
      "text/plain": [
       "<tf.Tensor: shape=(3,), dtype=int32, numpy=array([1, 2, 3], dtype=int32)>"
      ]
     },
     "execution_count": 60,
     "metadata": {},
     "output_type": "execute_result"
    }
   ],
   "source": [
    "a % b"
   ]
  },
  {
   "cell_type": "code",
   "execution_count": 61,
   "id": "english-permission",
   "metadata": {},
   "outputs": [
    {
     "data": {
      "text/plain": [
       "<tf.Tensor: shape=(3,), dtype=int32, numpy=array([0, 0, 0], dtype=int32)>"
      ]
     },
     "execution_count": 61,
     "metadata": {},
     "output_type": "execute_result"
    }
   ],
   "source": [
    "a // b"
   ]
  },
  {
   "cell_type": "code",
   "execution_count": 62,
   "id": "finnish-underwear",
   "metadata": {},
   "outputs": [
    {
     "data": {
      "text/plain": [
       "<tf.Tensor: shape=(3,), dtype=int32, numpy=array([  1,  32, 729], dtype=int32)>"
      ]
     },
     "execution_count": 62,
     "metadata": {},
     "output_type": "execute_result"
    }
   ],
   "source": [
    "a ** b"
   ]
  },
  {
   "cell_type": "markdown",
   "id": "choice-jacksonville",
   "metadata": {},
   "source": [
    "**广播机制**\n",
    "\n",
    "如果参与运算的两个张量维度不一致，也可以运算,但要求两个张量的最后一个维度必须相等。"
   ]
  },
  {
   "cell_type": "code",
   "execution_count": 67,
   "id": "french-wheel",
   "metadata": {},
   "outputs": [
    {
     "data": {
      "text/plain": [
       "<tf.Tensor: shape=(4, 3), dtype=int32, numpy=\n",
       "array([[ 1,  3,  5],\n",
       "       [ 4,  6,  8],\n",
       "       [ 7,  9, 11],\n",
       "       [10, 12, 14]], dtype=int32)>"
      ]
     },
     "execution_count": 67,
     "metadata": {},
     "output_type": "execute_result"
    }
   ],
   "source": [
    "a = tf.constant([1, 2, 3])\n",
    "b = tf.reshape(tf.range(12), shape=[4, 3])\n",
    "a + b # a张量被广播到b张量的每一行上"
   ]
  },
  {
   "cell_type": "code",
   "execution_count": 70,
   "id": "retired-patrol",
   "metadata": {
    "scrolled": true
   },
   "outputs": [
    {
     "data": {
      "text/plain": [
       "<tf.Tensor: shape=(4, 3), dtype=int32, numpy=\n",
       "array([[ 0,  2,  6],\n",
       "       [ 3,  8, 15],\n",
       "       [ 6, 14, 24],\n",
       "       [ 9, 20, 33]], dtype=int32)>"
      ]
     },
     "execution_count": 70,
     "metadata": {},
     "output_type": "execute_result"
    }
   ],
   "source": [
    "a = tf.constant([1, 2, 3])\n",
    "b = tf.reshape(tf.range(12), shape=[4, 3])\n",
    "a * b"
   ]
  },
  {
   "cell_type": "markdown",
   "id": "democratic-pulse",
   "metadata": {},
   "source": [
    "当张量和一个数字运算时，则会将这个数字广播到张量的各个元素。"
   ]
  },
  {
   "cell_type": "code",
   "execution_count": 71,
   "id": "external-modeling",
   "metadata": {},
   "outputs": [
    {
     "data": {
      "text/plain": [
       "<tf.Tensor: shape=(3,), dtype=int32, numpy=array([ 5, 10, 15], dtype=int32)>"
      ]
     },
     "execution_count": 71,
     "metadata": {},
     "output_type": "execute_result"
    }
   ],
   "source": [
    "a = tf.constant([1, 2, 3])\n",
    "a * 5"
   ]
  },
  {
   "cell_type": "markdown",
   "id": "indirect-cleaners",
   "metadata": {},
   "source": [
    "**tensorflow张量与numpy数组类型自动转换**\n",
    "\n",
    "当张量和numpy数组共同参与运算时：如果执行的是tensorflow操作，那么会自动将numpy数组转换为张量；如果执行的是numpy操作，那么会自动将张量转换为numpy数组;如果执行的是运算符操作，只要其中有一个是张量，就会自动将其他操作数都转换为张量，再进行运算。"
   ]
  },
  {
   "cell_type": "code",
   "execution_count": 79,
   "id": "nervous-study",
   "metadata": {},
   "outputs": [
    {
     "data": {
      "text/plain": [
       "<tf.Tensor: shape=(2, 2), dtype=int32, numpy=\n",
       "array([[ 0,  2],\n",
       "       [ 6, 12]], dtype=int32)>"
      ]
     },
     "execution_count": 79,
     "metadata": {},
     "output_type": "execute_result"
    }
   ],
   "source": [
    "import numpy as np\n",
    "import tensorflow as tf\n",
    "\n",
    "a = np.arange(4).reshape(2, 2)\n",
    "b = tf.reshape(tf.range(1, 5), shape=(2, 2))\n",
    "tf.math.multiply(a, b) #执行tensorflow操作，则结果是张量"
   ]
  },
  {
   "cell_type": "code",
   "execution_count": 73,
   "id": "posted-sponsorship",
   "metadata": {},
   "outputs": [
    {
     "data": {
      "text/plain": [
       "array([[1, 3],\n",
       "       [5, 7]])"
      ]
     },
     "execution_count": 73,
     "metadata": {},
     "output_type": "execute_result"
    }
   ],
   "source": [
    "np.add(a, b) #执行numpy操作，则结果是numpy数组"
   ]
  },
  {
   "cell_type": "code",
   "execution_count": 78,
   "id": "based-flight",
   "metadata": {},
   "outputs": [
    {
     "data": {
      "text/plain": [
       "<tf.Tensor: shape=(2, 2), dtype=int32, numpy=\n",
       "array([[1, 3],\n",
       "       [5, 7]], dtype=int32)>"
      ]
     },
     "execution_count": 78,
     "metadata": {},
     "output_type": "execute_result"
    }
   ],
   "source": [
    "a + b #操作数有一个张量，则结果也是张量"
   ]
  },
  {
   "cell_type": "code",
   "execution_count": 77,
   "id": "completed-continent",
   "metadata": {},
   "outputs": [
    {
     "data": {
      "text/plain": [
       "array([[1., 2.],\n",
       "       [3., 4.]])"
      ]
     },
     "execution_count": 77,
     "metadata": {},
     "output_type": "execute_result"
    }
   ],
   "source": [
    "c = np.ones((2, 2)) \n",
    "a + c #操作数都是numpy数组，则结果也是numpy数组"
   ]
  },
  {
   "cell_type": "markdown",
   "id": "academic-capital",
   "metadata": {},
   "source": [
    "## 向量/矩阵运算\n",
    "\n",
    "张量相乘是`tf.math.multiply()`或者`*`运算符\n",
    "\n",
    "矩阵相乘是`tf.matmul()`或者`@`运算符"
   ]
  },
  {
   "cell_type": "code",
   "execution_count": 84,
   "id": "cubic-columbus",
   "metadata": {},
   "outputs": [
    {
     "data": {
      "text/plain": [
       "<tf.Tensor: shape=(2, 4), dtype=int32, numpy=\n",
       "array([[20, 23, 26, 29],\n",
       "       [56, 68, 80, 92]], dtype=int32)>"
      ]
     },
     "execution_count": 84,
     "metadata": {},
     "output_type": "execute_result"
    }
   ],
   "source": [
    "a = tf.reshape(tf.range(6), shape=(2, 3))\n",
    "b = tf.reshape(tf.range(12), shape=(3, 4))\n",
    "tf.matmul(a, b)"
   ]
  },
  {
   "cell_type": "code",
   "execution_count": 82,
   "id": "great-chest",
   "metadata": {},
   "outputs": [
    {
     "data": {
      "text/plain": [
       "<tf.Tensor: shape=(2, 4), dtype=int32, numpy=\n",
       "array([[20, 23, 26, 29],\n",
       "       [56, 68, 80, 92]], dtype=int32)>"
      ]
     },
     "execution_count": 82,
     "metadata": {},
     "output_type": "execute_result"
    }
   ],
   "source": [
    "a @ b"
   ]
  },
  {
   "cell_type": "markdown",
   "id": "daily-herald",
   "metadata": {},
   "source": [
    "由于a, b维度不同，a*b会出错\n",
    "\n",
    "matmul()函数不在math模块下\n",
    "\n",
    "**多维向量乘法**\n",
    "\n",
    "如果两个张量维度不一样，也会用广播机制让最后相同的维度相乘，比如3维张量矩阵乘以2维张量"
   ]
  },
  {
   "cell_type": "code",
   "execution_count": 85,
   "id": "disciplinary-manor",
   "metadata": {},
   "outputs": [
    {
     "data": {
      "text/plain": [
       "<tf.Tensor: shape=(2, 3, 2), dtype=float32, numpy=\n",
       "array([[[-1.2361232 , -1.2499229 ],\n",
       "        [ 2.0451078 ,  1.2070524 ],\n",
       "        [ 1.816917  ,  2.9748683 ]],\n",
       "\n",
       "       [[-1.3890347 , -2.312685  ],\n",
       "        [-1.0125731 , -4.8830366 ],\n",
       "        [-0.22415736, -1.9630824 ]]], dtype=float32)>"
      ]
     },
     "execution_count": 85,
     "metadata": {},
     "output_type": "execute_result"
    }
   ],
   "source": [
    "a = tf.random.normal([2, 3, 4])\n",
    "b = tf.random.normal([4, 2])\n",
    "a @ b"
   ]
  },
  {
   "cell_type": "markdown",
   "id": "invalid-arizona",
   "metadata": {},
   "source": [
    "3维张量矩阵乘以3维张量，4维张量矩阵乘以4维张量,也是后两维相乘"
   ]
  },
  {
   "cell_type": "code",
   "execution_count": 87,
   "id": "average-spirituality",
   "metadata": {},
   "outputs": [
    {
     "data": {
      "text/plain": [
       "<tf.Tensor: shape=(2, 3, 2), dtype=int64, numpy=\n",
       "array([[[ 0,  1],\n",
       "        [ 2,  3],\n",
       "        [ 4,  5]],\n",
       "\n",
       "       [[ 6,  7],\n",
       "        [ 8,  9],\n",
       "        [10, 11]]])>"
      ]
     },
     "execution_count": 87,
     "metadata": {},
     "output_type": "execute_result"
    }
   ],
   "source": [
    "a = tf.constant(np.arange(12).reshape(2, 3, 2))\n",
    "b = tf.constant(np.arange(12).reshape(2, 2, 3))\n",
    "a"
   ]
  },
  {
   "cell_type": "code",
   "execution_count": 88,
   "id": "constant-threat",
   "metadata": {},
   "outputs": [
    {
     "data": {
      "text/plain": [
       "<tf.Tensor: shape=(2, 2, 3), dtype=int64, numpy=\n",
       "array([[[ 0,  1,  2],\n",
       "        [ 3,  4,  5]],\n",
       "\n",
       "       [[ 6,  7,  8],\n",
       "        [ 9, 10, 11]]])>"
      ]
     },
     "execution_count": 88,
     "metadata": {},
     "output_type": "execute_result"
    }
   ],
   "source": [
    "b"
   ]
  },
  {
   "cell_type": "code",
   "execution_count": 89,
   "id": "reduced-elder",
   "metadata": {},
   "outputs": [
    {
     "data": {
      "text/plain": [
       "<tf.Tensor: shape=(2, 3, 3), dtype=int64, numpy=\n",
       "array([[[  3,   4,   5],\n",
       "        [  9,  14,  19],\n",
       "        [ 15,  24,  33]],\n",
       "\n",
       "       [[ 99, 112, 125],\n",
       "        [129, 146, 163],\n",
       "        [159, 180, 201]]])>"
      ]
     },
     "execution_count": 89,
     "metadata": {},
     "output_type": "execute_result"
    }
   ],
   "source": [
    "a @ b"
   ]
  },
  {
   "cell_type": "markdown",
   "id": "centered-anderson",
   "metadata": {},
   "source": [
    "## 数据统计\n",
    "\n",
    "求张量在某个维度或全局的统计值\n",
    "\n",
    "\n",
    "| 函数                               | 描述     |\n",
    "| ---------------------------------- | -------- |\n",
    "| tf.reduce_sum(input_tensor, axis)  | 求和     |\n",
    "| tf.reduce_mean(input_tensor, axis) | 求平均值 |\n",
    "| tf.reduce_max(input_tensor, axis)  | 求最大值 |\n",
    "| tf.reduce_min(input_tensor, axis)  | 求最小值 |\n",
    "\n",
    "\n",
    "名字都有一个reduce，意思是降维"
   ]
  },
  {
   "cell_type": "code",
   "execution_count": 90,
   "id": "radical-catch",
   "metadata": {},
   "outputs": [
    {
     "data": {
      "text/plain": [
       "<tf.Tensor: shape=(), dtype=int32, numpy=21>"
      ]
     },
     "execution_count": 90,
     "metadata": {},
     "output_type": "execute_result"
    }
   ],
   "source": [
    "a = tf.constant([[1, 2, 3], [4, 5, 6]])\n",
    "tf.reduce_sum(a)"
   ]
  },
  {
   "cell_type": "code",
   "execution_count": 91,
   "id": "increasing-aluminum",
   "metadata": {},
   "outputs": [
    {
     "data": {
      "text/plain": [
       "<tf.Tensor: shape=(3,), dtype=int32, numpy=array([5, 7, 9], dtype=int32)>"
      ]
     },
     "execution_count": 91,
     "metadata": {},
     "output_type": "execute_result"
    }
   ],
   "source": [
    "a = tf.constant([[1, 2, 3], [4, 5, 6]])\n",
    "tf.reduce_sum(a, axis=0)"
   ]
  },
  {
   "cell_type": "code",
   "execution_count": 92,
   "id": "ready-extreme",
   "metadata": {},
   "outputs": [
    {
     "data": {
      "text/plain": [
       "<tf.Tensor: shape=(2,), dtype=int32, numpy=array([ 6, 15], dtype=int32)>"
      ]
     },
     "execution_count": 92,
     "metadata": {},
     "output_type": "execute_result"
    }
   ],
   "source": [
    "a = tf.constant([[1, 2, 3], [4, 5, 6]])\n",
    "tf.reduce_sum(a, axis=1)"
   ]
  },
  {
   "cell_type": "code",
   "execution_count": 93,
   "id": "possible-omega",
   "metadata": {},
   "outputs": [
    {
     "data": {
      "text/plain": [
       "<tf.Tensor: shape=(), dtype=float32, numpy=3.5>"
      ]
     },
     "execution_count": 93,
     "metadata": {},
     "output_type": "execute_result"
    }
   ],
   "source": [
    "a = tf.constant([[1, 2, 3], [4, 5, 6]])\n",
    "tf.reduce_mean(tf.cast(a, tf.float32))"
   ]
  },
  {
   "cell_type": "code",
   "execution_count": 94,
   "id": "trained-louisiana",
   "metadata": {},
   "outputs": [
    {
     "data": {
      "text/plain": [
       "<tf.Tensor: shape=(3,), dtype=float32, numpy=array([2.5, 3.5, 4.5], dtype=float32)>"
      ]
     },
     "execution_count": 94,
     "metadata": {},
     "output_type": "execute_result"
    }
   ],
   "source": [
    "a = tf.constant([[1, 2, 3], [4, 5, 6]])\n",
    "tf.reduce_mean(tf.cast(a, tf.float32), axis=0)"
   ]
  },
  {
   "cell_type": "code",
   "execution_count": 95,
   "id": "atomic-thumbnail",
   "metadata": {},
   "outputs": [
    {
     "data": {
      "text/plain": [
       "<tf.Tensor: shape=(2,), dtype=float32, numpy=array([2., 5.], dtype=float32)>"
      ]
     },
     "execution_count": 95,
     "metadata": {},
     "output_type": "execute_result"
    }
   ],
   "source": [
    "a = tf.constant([[1, 2, 3], [4, 5, 6]])\n",
    "tf.reduce_mean(tf.cast(a, tf.float32), axis=1)"
   ]
  },
  {
   "cell_type": "code",
   "execution_count": 96,
   "id": "circular-longer",
   "metadata": {},
   "outputs": [
    {
     "data": {
      "text/plain": [
       "<tf.Tensor: shape=(), dtype=int32, numpy=6>"
      ]
     },
     "execution_count": 96,
     "metadata": {},
     "output_type": "execute_result"
    }
   ],
   "source": [
    "a = tf.constant([[1, 2, 3], [4, 5, 6]])\n",
    "tf.reduce_max(a)"
   ]
  },
  {
   "cell_type": "code",
   "execution_count": 97,
   "id": "informed-immunology",
   "metadata": {},
   "outputs": [
    {
     "data": {
      "text/plain": [
       "<tf.Tensor: shape=(3,), dtype=int32, numpy=array([4, 5, 6], dtype=int32)>"
      ]
     },
     "execution_count": 97,
     "metadata": {},
     "output_type": "execute_result"
    }
   ],
   "source": [
    "a = tf.constant([[1, 2, 3], [4, 5, 6]])\n",
    "tf.reduce_max(a, axis=0)"
   ]
  },
  {
   "cell_type": "code",
   "execution_count": 98,
   "id": "third-rebecca",
   "metadata": {},
   "outputs": [
    {
     "data": {
      "text/plain": [
       "<tf.Tensor: shape=(2,), dtype=int32, numpy=array([3, 6], dtype=int32)>"
      ]
     },
     "execution_count": 98,
     "metadata": {},
     "output_type": "execute_result"
    }
   ],
   "source": [
    "a = tf.constant([[1, 2, 3], [4, 5, 6]])\n",
    "tf.reduce_max(a, axis=1)"
   ]
  },
  {
   "cell_type": "markdown",
   "id": "unexpected-chosen",
   "metadata": {},
   "source": [
    "求最值的索引\n",
    "\n",
    "`tf.argmax()`\n",
    "\n",
    "`tf.argmin()`"
   ]
  },
  {
   "cell_type": "code",
   "execution_count": 102,
   "id": "exempt-cross",
   "metadata": {},
   "outputs": [
    {
     "data": {
      "text/plain": [
       "<tf.Tensor: shape=(3,), dtype=int64, numpy=array([1, 1, 1])>"
      ]
     },
     "execution_count": 102,
     "metadata": {},
     "output_type": "execute_result"
    }
   ],
   "source": [
    "a = tf.constant([[1, 2, 3], [4, 5, 6]])\n",
    "tf.argmax(a) #没有指定axis时，默认axis=0"
   ]
  },
  {
   "cell_type": "code",
   "execution_count": 100,
   "id": "african-distribution",
   "metadata": {},
   "outputs": [
    {
     "data": {
      "text/plain": [
       "<tf.Tensor: shape=(3,), dtype=int64, numpy=array([1, 1, 1])>"
      ]
     },
     "execution_count": 100,
     "metadata": {},
     "output_type": "execute_result"
    }
   ],
   "source": [
    "a = tf.constant([[1, 2, 3], [4, 5, 6]])\n",
    "tf.argmax(a, axis=0)"
   ]
  },
  {
   "cell_type": "code",
   "execution_count": 101,
   "id": "coordinate-scotland",
   "metadata": {},
   "outputs": [
    {
     "data": {
      "text/plain": [
       "<tf.Tensor: shape=(2,), dtype=int64, numpy=array([2, 2])>"
      ]
     },
     "execution_count": 101,
     "metadata": {},
     "output_type": "execute_result"
    }
   ],
   "source": [
    "a = tf.constant([[1, 2, 3], [4, 5, 6]])\n",
    "tf.argmax(a, axis=1)"
   ]
  }
 ],
 "metadata": {
  "kernelspec": {
   "display_name": "Python 3",
   "language": "python",
   "name": "python3"
  },
  "language_info": {
   "codemirror_mode": {
    "name": "ipython",
    "version": 3
   },
   "file_extension": ".py",
   "mimetype": "text/x-python",
   "name": "python",
   "nbconvert_exporter": "python",
   "pygments_lexer": "ipython3",
   "version": "3.9.2"
  }
 },
 "nbformat": 4,
 "nbformat_minor": 5
}
