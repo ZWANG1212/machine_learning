{
  "nbformat": 4,
  "nbformat_minor": 0,
  "metadata": {
    "colab": {
      "provenance": [],
      "authorship_tag": "ABX9TyNOsuQvRkngpizV8TIkq/lz",
      "include_colab_link": true
    },
    "kernelspec": {
      "name": "python3",
      "display_name": "Python 3"
    },
    "language_info": {
      "name": "python"
    },
    "accelerator": "GPU",
    "gpuClass": "standard"
  },
  "cells": [
    {
      "cell_type": "markdown",
      "metadata": {
        "id": "view-in-github",
        "colab_type": "text"
      },
      "source": [
        "<a href=\"https://colab.research.google.com/github/ZWANG1212/machine_learning/blob/master/zwang/pytorch_1.ipynb\" target=\"_parent\"><img src=\"https://colab.research.google.com/assets/colab-badge.svg\" alt=\"Open In Colab\"/></a>"
      ]
    },
    {
      "cell_type": "markdown",
      "source": [
        "## Tip 1: 直接在GPU上创建tensor更省时间"
      ],
      "metadata": {
        "id": "UWeZDGkA157x"
      }
    },
    {
      "cell_type": "code",
      "execution_count": 1,
      "metadata": {
        "id": "ZT0gTG-n0bkb"
      },
      "outputs": [],
      "source": [
        "import time\n",
        "\n",
        "import torch\n",
        "from torch import nn"
      ]
    },
    {
      "cell_type": "code",
      "source": [
        "start_time = time.time()\n",
        "\n",
        "for _ in range(20):\n",
        "  # 先在cpu上创建tensor，再移到GPU上\n",
        "  cpu_tensor = torch.ones((1000, 64, 64))\n",
        "  gpu_tensor = cpu_tensor.cuda()\n",
        "\n",
        "print(f\"time: {time.time() - start_time}\")"
      ],
      "metadata": {
        "id": "_kKVeP0K0on_",
        "colab": {
          "base_uri": "https://localhost:8080/"
        },
        "outputId": "ea2add71-33aa-4dd1-8ee2-2e9c65cb14db"
      },
      "execution_count": 2,
      "outputs": [
        {
          "output_type": "stream",
          "name": "stdout",
          "text": [
            "time: 6.122653961181641\n"
          ]
        }
      ]
    },
    {
      "cell_type": "code",
      "source": [
        "start_time = time.time()\n",
        "\n",
        "for _ in range(20):\n",
        "  # 直接在GPU上创建tensor\n",
        "  gpu_tensor = torch.ones((1000, 64, 64), device='cuda:0')\n",
        "\n",
        "print(f\"time: {time.time() - start_time}\")"
      ],
      "metadata": {
        "colab": {
          "base_uri": "https://localhost:8080/"
        },
        "id": "9ZtDt1p31ayw",
        "outputId": "f4198817-1eaa-4a70-f84b-45b59d08e9bf"
      },
      "execution_count": 5,
      "outputs": [
        {
          "output_type": "stream",
          "name": "stdout",
          "text": [
            "time: 0.0013875961303710938\n"
          ]
        }
      ]
    }
  ]
}