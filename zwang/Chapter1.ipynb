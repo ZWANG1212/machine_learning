{
 "cells": [
  {
   "cell_type": "markdown",
   "metadata": {},
   "source": [
    "# Chapter1"
   ]
  },
  {
   "cell_type": "markdown",
   "metadata": {
    "toc": true
   },
   "source": [
    "<h1>Table of Contents<span class=\"tocSkip\"></span></h1>\n",
    "<div class=\"toc\"><ul class=\"toc-item\"><li><span><a href=\"#Supervised-Learning\" data-toc-modified-id=\"Supervised-Learning-1\">Supervised Learning</a></span></li><li><span><a href=\"#Unsupervised-Learning\" data-toc-modified-id=\"Unsupervised-Learning-2\">Unsupervised Learning</a></span></li><li><span><a href=\"#Cost-Function-代价函数\" data-toc-modified-id=\"Cost-Function-代价函数-3\">Cost Function 代价函数</a></span></li><li><span><a href=\"#Gradient-Descent-梯度下降算法\" data-toc-modified-id=\"Gradient-Descent-梯度下降算法-4\">Gradient Descent 梯度下降算法</a></span></li><li><span><a href=\"#Normal-Equation-Method\" data-toc-modified-id=\"Normal-Equation-Method-5\">Normal Equation Method</a></span></li><li><span><a href=\"#Vectorization-向量化\" data-toc-modified-id=\"Vectorization-向量化-6\">Vectorization 向量化</a></span></li></ul></div>"
   ]
  },
  {
   "cell_type": "markdown",
   "metadata": {},
   "source": [
    "# Content"
   ]
  },
  {
   "cell_type": "markdown",
   "metadata": {},
   "source": [
    "## Supervised Learning\n",
    "\n",
    "<img src=\"./img/1-1.png\" width=\"33%\">\n",
    "\n",
    "* ***Regression*** refers to predict a continuous valued output.\n",
    "\n",
    "\n",
    "* ***Classfication*** refers to predict a discrete valued output (e.g. 0, 1, 2, 3).\n"
   ]
  },
  {
   "cell_type": "markdown",
   "metadata": {},
   "source": [
    "   ## Unsupervised Learning\n",
    "   * ***Clustering*** "
   ]
  },
  {
   "cell_type": "markdown",
   "metadata": {},
   "source": [
    "## Cost Function 代价函数\n",
    "\n",
    "对于一元线性回归问题：\n",
    "\n",
    "> **Hypothesis:**\n",
    ">    \n",
    "> $h_\\theta=\\theta_0+\\theta_1x$\n",
    ">\n",
    "> **Parameters:**\n",
    ">\n",
    "> $\\theta_0, \\theta_1$\n",
    ">\n",
    "> **Cost Function:**\n",
    ">\n",
    ">$J(\\theta_0, \\theta_1)=\\frac{1}{2m}\\sum_{i=1}^m(h_\\theta(x^{(i)})-y^{(i)})^2$\n",
    ">\n",
    "> **Goal:** $minimize J(\\theta_0, \\theta_1)$\n",
    "\n",
    "\n",
    "其中代价函数表示为误差的平方，$m$ 为训练样本数量，$h(x)$ 为假设 *(hypothesis)* 函数。\n",
    "\n",
    "通过 $minimize J(\\theta)$ 求得 $\\theta$ 参数。"
   ]
  },
  {
   "cell_type": "markdown",
   "metadata": {},
   "source": [
    "## Gradient Descent 梯度下降算法\n",
    "\n",
    "* **Gradient descent algorithm:**\n",
    "\n",
    "    repeat until convergence {\n",
    "\n",
    "    $\\theta_j := \\theta_j - \\alpha\\frac{\\partial}{\\partial\\theta_j}J(\\theta_0, \\theta_1)$, (for $j=0$ and $j=1$)\n",
    "\n",
    "    }\n",
    "\n",
    "    where $\\alpha$ denotes the learning rate, controlling how big a step we take when updating parameter $\\theta_j$.\n",
    "\n",
    "\n",
    "* **Simultaneous update:**\n",
    "\n",
    "    temp0 := $\\theta_0 - \\alpha\\frac{\\partial}{\\partial\\theta_0}J(\\theta_0, \\theta_1)$\n",
    "\n",
    "    temp1 := $\\theta_1 - \\alpha\\frac{\\partial}{\\partial\\theta_1}J(\\theta_0, \\theta_1)$\n",
    "\n",
    "    $\\theta_0$ := temp0\n",
    "\n",
    "    $\\theta_1$ := tem1\n",
    "\n",
    "* **Learning rate $\\alpha$**\n",
    "\n",
    "<img src=\"./img/1-2.png\" width=\"33%\">\n",
    "\n",
    "    As we approach a local minimum, gradient descent will automatically take smaller steps (斜率正数越来越小). So, no need to decrease $\\alpha$ over time.\n",
    "\n",
    "* **Batch gradient descent, BGD**\n",
    "\n",
    "    \"Batch\": Each step of gradient descent uses all the training examples.\n",
    "\n",
    "    优点：精确\n",
    "\n",
    "    缺点：样本数量大时，速度慢"
   ]
  },
  {
   "cell_type": "markdown",
   "metadata": {},
   "source": [
    "* **Example**"
   ]
  },
  {
   "cell_type": "code",
   "execution_count": 15,
   "metadata": {
    "ExecuteTime": {
     "end_time": "2020-04-17T22:40:02.754692Z",
     "start_time": "2020-04-17T22:40:02.478052Z"
    },
    "code_folding": [
     0
    ],
    "pycharm": {
     "name": "#%%\n"
    },
    "scrolled": true
   },
   "outputs": [
    {
     "data": {
      "image/png": "[encoded data removed]",
      "text/plain": [
       "<Figure size 432x288 with 1 Axes>"
      ]
     },
     "metadata": {
      "needs_background": "light"
     },
     "output_type": "display_data"
    }
   ],
   "source": [
    "# 假设函数为一元线性函数时\n",
    "%matplotlib inline\n",
    "import matplotlib.pyplot as plt\n",
    "import plotly.graph_objects as go\n",
    "\n",
    "\n",
    "x = [1, 2, 3]\n",
    "y = [2, 3, 4]\n",
    "\n",
    "theta_0 = 0\n",
    "theta_1 = 0\n",
    "\n",
    "m = len(x) # number of training examples\n",
    "\n",
    "alpha = 0.001 # learning rate\n",
    "\n",
    "threshold = 0.001 # error control\n",
    "\n",
    "cost_dict = {} # cost function result \n",
    "\n",
    "iter_num = 0 # iteration times\n",
    "\n",
    "\n",
    "def cost_j(theta_0, theta_1):\n",
    "    tmp = 0\n",
    "    for i in range(m):\n",
    "        tmp += (theta_0 + theta_1 * x[i] - y[i])**2\n",
    "    return tmp/(2*m)\n",
    "\n",
    "\n",
    "def gradient_descent(theta_0, theta_1):\n",
    "    tmp_0 = tmp_1 = 0\n",
    "    for i in range(m):\n",
    "        tmp_0 += theta_0 + theta_1 * x[i] - y[i]\n",
    "        tmp_1 += (theta_0 + theta_1 * x[i] - y[i]) * x[i]\n",
    "    theta_0 -= alpha * tmp_0 / m\n",
    "    theta_1 -= alpha * tmp_1 / m\n",
    "    return theta_0, theta_1\n",
    "\n",
    "\n",
    "cost = cost_j(theta_0, theta_1)\n",
    "#print(\"initial cost = {}\".format(cost))\n",
    "\n",
    "while cost > threshold:\n",
    "    theta_0, theta_1 = gradient_descent(theta_0, theta_1)\n",
    "    iter_num += 1\n",
    "    cost = cost_j(theta_0, theta_1)\n",
    "    cost_dict[iter_num] = cost\n",
    "    #print(\"iteration {}, theta_0 = {}, theta_1 = {}\".format(iter_num, theta_0, theta_1))\n",
    "\n",
    "plt.figure()\n",
    "plt.plot(list(cost_dict.keys()), list(cost_dict.values()))\n",
    "plt.xlabel('Iteration Times')\n",
    "plt.ylabel(\"Cost Function Error\")\n",
    "plt.show()\n",
    "\n",
    "# x = list(cost_dict.keys())\n",
    "# y = list(cost_dict.values())\n",
    "# fig = go.Figure(data=go.Scatter(x=x, y=y))\n",
    "# fig.show()"
   ]
  },
  {
   "cell_type": "code",
   "execution_count": 2,
   "metadata": {
    "ExecuteTime": {
     "end_time": "2020-04-19T19:25:44.074621Z",
     "start_time": "2020-04-19T19:25:43.808479Z"
    },
    "code_folding": [
     0
    ]
   },
   "outputs": [
    {
     "name": "stdout",
     "output_type": "stream",
     "text": [
      "initial cost = 17.82\n"
     ]
    },
    {
     "data": {
      "image/png": "[encoded data removed]",
      "text/plain": [
       "<Figure size 432x288 with 1 Axes>"
      ]
     },
     "metadata": {
      "needs_background": "light"
     },
     "output_type": "display_data"
    }
   ],
   "source": [
    "# 假设函数为多元线性函数时   underfit\n",
    "import matplotlib.pyplot as plt\n",
    "\n",
    "\n",
    "x = [[1, 1, 1, 1, 1],\n",
    "     [2, 2, 2, 2, 2],\n",
    "     [3, 3, 3, 3, 3],\n",
    "     [4, 4, 4, 4, 4],\n",
    "     [5, 5, 5, 5, 5]]\n",
    "\n",
    "y = [1.8, 3.6, 5.4, 7.2, 9]\n",
    "\n",
    "theta = [0, 0, 0, 0, 0, 0]\n",
    "\n",
    "m = len(x)  # number of training examples\n",
    "\n",
    "alpha = 0.001  # learning rate\n",
    "\n",
    "threshold = 0.001  # error control\n",
    "\n",
    "cost_dict = {}  # cost function result\n",
    "\n",
    "iter_num = 0  # iteration times\n",
    "\n",
    "\n",
    "def cost_j(theta):\n",
    "    tmp1 = 0\n",
    "    tmp2 = 0\n",
    "    for i in range(m):\n",
    "        tmp1 += theta[0]\n",
    "        for j in range(m):\n",
    "            tmp1 += theta[j+1] * x[i][j]\n",
    "        tmp2 += (tmp1 - y[i])**2\n",
    "    return tmp2/(2*m)\n",
    "\n",
    "\n",
    "def gradient_descent(theta):\n",
    "    tmp = [0, 0, 0, 0, 0, 0]\n",
    "    tmp1 = 0\n",
    "    for i in range(m):\n",
    "        tmp1 = theta[0]\n",
    "        for j in range(m):\n",
    "            tmp1 += theta[j+1] * x[i][j]\n",
    "        tmp1 -= y[i]\n",
    "\n",
    "        tmp[0] += tmp1  # 对应 theta[0]\n",
    "\n",
    "        for j in range(m):\n",
    "            # 对应 theta[1] ~ theta[5]\n",
    "            tmp[j+1] += tmp1 * x[i][j]\n",
    "\n",
    "    theta[0] -= alpha * tmp[0] / m\n",
    "    for j in range(m):\n",
    "        theta[j+1] -= alpha * tmp[j+1] / m\n",
    "    return theta\n",
    "\n",
    "\n",
    "cost = cost_j(theta)\n",
    "print(\"initial cost = {}\".format(cost))\n",
    "\n",
    "while cost > threshold:\n",
    "    theta = gradient_descent(theta)\n",
    "    iter_num += 1\n",
    "    cost = cost_j(theta)\n",
    "    cost_dict[iter_num] = cost\n",
    "    #print(\"iteration {}, theta = {}\".format(iter_num, theta))\n",
    "    if iter_num > 100:\n",
    "        break\n",
    "\n",
    "plt.figure()\n",
    "plt.plot(list(cost_dict.keys()), list(cost_dict.values()))\n",
    "plt.xlabel(\"Iteration Times\")\n",
    "plt.ylabel(\"Cost Function Error\")\n",
    "plt.show()\n"
   ]
  },
  {
   "cell_type": "code",
   "execution_count": 3,
   "metadata": {
    "ExecuteTime": {
     "end_time": "2020-04-19T19:26:25.064799Z",
     "start_time": "2020-04-19T19:26:24.820564Z"
    },
    "code_folding": [
     0
    ]
   },
   "outputs": [
    {
     "name": "stdout",
     "output_type": "stream",
     "text": [
      "initial cost = 78.806\n"
     ]
    },
    {
     "data": {
      "image/png": "[encoded data removed]",
      "text/plain": [
       "<Figure size 432x288 with 1 Axes>"
      ]
     },
     "metadata": {
      "needs_background": "light"
     },
     "output_type": "display_data"
    }
   ],
   "source": [
    "# 假设函数为非线性函数时    underfit\n",
    "import matplotlib.pyplot as plt\n",
    "\n",
    "# hypothesis = theta_0 + theta_1 * x_0 + theta_2 * (x_1 * x_2) + theta_3 * x_3\n",
    "# 2.5 + 0.6 * () + 0.3 * () + 1.2 * ()\n",
    "\n",
    "x = [[1, 1, 1, 1],\n",
    "     [2, 2, 2, 2],\n",
    "     [3, 3, 3, 3],\n",
    "     [4, 4, 4, 4],\n",
    "     [5, 5, 5, 5]]\n",
    "\n",
    "y = [4.6, 7.3, 10.6, 15.5, 19]\n",
    "\n",
    "theta = [0, 0, 0, 0]\n",
    "\n",
    "m = len(x)  # number of training examples\n",
    "\n",
    "alpha = 0.001  # learning rate\n",
    "\n",
    "threshold = 0.01  # error control\n",
    "\n",
    "cost_dict = {}  # cost function result\n",
    "\n",
    "iter_num = 0  # iteration times\n",
    "\n",
    "\n",
    "def cost_j(theta):\n",
    "    tmp = 0\n",
    "    for i in range(m):\n",
    "        tmp += (theta[0] + theta[1] * x[i][0] + theta[2] * (x[i][1] * x[i][2]) + theta[3] * x[i][3] - y[i]) ** 2\n",
    "    return tmp/(2*m)\n",
    "\n",
    "\n",
    "def gradient_descent(theta):\n",
    "    tmp = [0, 0, 0, 0]\n",
    "    tmp1 = 0\n",
    "    for i in range(m):\n",
    "        tmp[0] = theta[0] + theta[1] * x[i][0] + theta[2] * (x[i][1] * x[i][2]) + theta[3] * x[i][3] - y[i]\n",
    "        tmp[1] = (theta[0] + theta[1] * x[i][0] + theta[2] * (x[i][1] * x[i][2]) + theta[3] * x[i][3] - y[i]) * x[i][0]\n",
    "        tmp[2] = (theta[0] + theta[1] * x[i][0] + theta[2] * (x[i][1] * x[i][2]) + theta[3] * x[i][3] - y[i]) * x[i][1] * x[i][2]\n",
    "        tmp[3] = (theta[0] + theta[1] * x[i][0] + theta[2] * (x[i][1] * x[i][2]) + theta[3] * x[i][3] - y[i]) * x[i][3]\n",
    "\n",
    "    theta[0] -= alpha * tmp[0] / m\n",
    "    theta[1] -= alpha * tmp[1] / m\n",
    "    theta[2] -= alpha * tmp[2] / m\n",
    "    theta[3] -= alpha * tmp[3] / m\n",
    "    return theta\n",
    "\n",
    "\n",
    "cost = cost_j(theta)\n",
    "print(\"initial cost = {}\".format(cost))\n",
    "\n",
    "while cost > threshold:\n",
    "    theta = gradient_descent(theta)\n",
    "    iter_num += 1\n",
    "    cost = cost_j(theta)\n",
    "    cost_dict[iter_num] = cost\n",
    "    # print(\"iteration {}, theta = {}\".format(iter_num, theta))\n",
    "    if iter_num > 100:\n",
    "        break\n",
    "\n",
    "\n",
    "plt.figure()\n",
    "plt.plot(list(cost_dict.keys()), list(cost_dict.values()))\n",
    "plt.xlabel(\"Iteration Times\")\n",
    "plt.ylabel(\"Cost Function Error\")\n",
    "plt.show()"
   ]
  },
  {
   "cell_type": "markdown",
   "metadata": {},
   "source": [
    "## Normal Equation Method\n",
    "\n"
   ]
  },
  {
   "cell_type": "markdown",
   "metadata": {},
   "source": [
    "## Vectorization 向量化\n",
    "\n",
    "**Vectorization example.**\n",
    "\n",
    "对于线性回归问题，\n",
    "\n",
    "给定训练样本的 features 为 $x = \\begin{bmatrix} x_0 \\\\ x_1 \\\\ x_2 \\\\ \\vdots \\\\ x_n \\end{bmatrix}$，则：\n",
    "\n",
    "1. 假设函数为\n",
    "\n",
    "    $\\begin{equation}\n",
    "    \\begin{aligned}\n",
    "    h(\\theta) &= \\theta_0 x_0 + \\theta_1 x_1 + \\theta_2 x_2 \\dots + \\theta_n x_n \\\\\n",
    "    &=\\sum_{j=0}^{n} \\theta_j x_j \\\\\n",
    "    &= \\begin{bmatrix} \\theta_0 \\theta_1 \\theta_2 \\dots \\theta_n \\end{bmatrix} \\begin{bmatrix} x_0 \\\\ x_1 \\\\ x_2 \\\\ \\vdots \\\\ x_n \\end{bmatrix} \\\\\n",
    "    &= \\theta^T x \\\\\n",
    "    \\end{aligned}\n",
    "    \\end{equation}$\n",
    "    \n",
    "    \n",
    "2. 参数 $\\theta = \\begin{bmatrix} \\theta_0 \\\\ \\theta_1 \\\\ \\theta_2 \\\\ \\vdots \\\\ \\theta_n \\end{bmatrix}$\n",
    "\n",
    "\n",
    "3. 代价函数为\n",
    "\n",
    "    $\\begin{equation}\n",
    "    \\begin{aligned}\n",
    "    J(\\theta) &= \\frac{1}{2m} \\sum_{i=1}^{m} (h_{\\theta}(x^{(i)}) - y^{(i)})^2 \\\\ \n",
    "    &= \\frac{1}{2m} \\sum_{i=1}^{m} (\\theta^T x^{(i)} - y^{(i)})^2 \\\\\n",
    "    \\end{aligned}\n",
    "    \\end{equation}$\n",
    "\n",
    "    注意，这里的 $m$ 为训练样本数量，上式中的 $n$ 为样本特征个数。\n",
    "\n",
    "\n",
    "4. 梯度下降为:\n",
    "    \n",
    "    $\\begin{equation}\n",
    "    \\theta_j := \\theta_j - \\alpha \\frac{1}{m} \\sum_{i=1}^{m}(h_{\\theta}(x^{(i)}) - y^{(i)}) x_j^{(i)}\n",
    "    \\end{equation}$\n",
    "\n",
    "    即：\n",
    "    \n",
    "    $\\theta_0 := \\theta_0 - \\alpha \\frac{1}{m} \\sum_{i=1}^{m}(h_{\\theta}(x^{(i)}) - y^{(i)}) x_0^{(i)}$\n",
    "    \n",
    "    $\\theta_1 := \\theta_1 - \\alpha \\frac{1}{m} \\sum_{i=1}^{m}(h_{\\theta}(x^{(i)}) - y^{(i)}) x_1^{(i)}$\n",
    "    \n",
    "    $\\theta_2 := \\theta_2 - \\alpha \\frac{1}{m} \\sum_{i=1}^{m}(h_{\\theta}(x^{(i)}) - y^{(i)}) x_2^{(i)}$\n",
    "    \n",
    "    $\\vdots$\n",
    "    \n",
    "    向量化后为：\n",
    "    \n",
    "    $\\theta := \\theta - \\alpha \\delta$\n",
    "    \n",
    "    其中， $\\theta$ 和 $\\delta$ 都是向量， 即：\n",
    "    \n",
    "    $\\begin{bmatrix} \\theta_0 \\\\ \\theta_1 \\\\ \\theta_2 \\\\ \\vdots \\\\ \\theta_n \\end{bmatrix} := \\begin{bmatrix} \\theta_0 \\\\ \\theta_1 \\\\ \\theta_2 \\\\ \\vdots \\\\ \\theta_n \\end{bmatrix} - \\alpha \\begin{bmatrix} \\delta_0 \\\\ \\delta_1 \\\\ \\delta_2 \\\\ \\vdots \\\\ \\delta_n \\end{bmatrix}$\n",
    "    \n",
    "    而 $\\delta = \\frac{1}{m} \\sum_{i=1}^m (h_{\\theta}(x^{(i)}) - y^{(i)}) x^{(i)}$, 即\n",
    "    \n",
    "    $\\delta_0 = \\frac{1}{m} \\sum_{i=1}^m (h_{\\theta}(x^{(i)}) - y^{(i)}) x_0^{(i)}$\n",
    "    \n",
    "    $\\delta_1 = \\frac{1}{m} \\sum_{i=1}^m (h_{\\theta}(x^{(i)}) - y^{(i)}) x_1^{(i)}$\n",
    "    \n",
    "    $\\delta_2 = \\frac{1}{m} \\sum_{i=1}^m (h_{\\theta}(x^{(i)}) - y^{(i)}) x_2^{(i)}$\n",
    "    \n",
    "    $\\vdots$\n",
    "    \n",
    "    $\\delta_n = \\frac{1}{m} \\sum_{i=1}^m (h_{\\theta}(x^{(i)}) - y^{(i)}) x_n^{(i)}$\n",
    "    \n",
    "    即：\n",
    "    \n",
    "    $\\begin{bmatrix} \\delta_0 \\\\ \\delta_1 \\\\ \\delta_2 \\\\ \\vdots \\\\ \\delta_n \\end{bmatrix} = \\frac{1}{m} \\sum_{i=1}^m \\left ( (h_{\\theta}(x^{(i)}) - y^{(i)}) \\begin{bmatrix} x_0^{(i)} \\\\ x_1^{(i)} \\\\ x_2^{(i)} \\\\ \\vdots \\\\ x_n^{(i)} \\end{bmatrix} \\right)$\n",
    "    \n",
    "    所以，\n",
    "    \n",
    "    $\\begin{equation}\n",
    "    \\begin{aligned}\n",
    "    \\begin{bmatrix} \\theta_0 \\\\ \\theta_1 \\\\ \\theta_2 \\\\ \\vdots \\\\ \\theta_n \\end{bmatrix} &:= \\begin{bmatrix} \\theta_0 \\\\ \\theta_1 \\\\ \\theta_2 \\\\ \\vdots \\\\ \\theta_n \\end{bmatrix} - \\alpha \\frac{1}{m} \\sum_{i=1}^m \\left ( (h_{\\theta}(x^{(i)}) - y^{(i)}) \\begin{bmatrix} x_0^{(i)} \\\\ x_1^{(i)} \\\\ x_2^{(i)} \\\\ \\vdots \\\\ x_n^{(i)} \\end{bmatrix} \\right) \\\\\n",
    "    &:= \\begin{bmatrix} \\theta_0 \\\\ \\theta_1 \\\\ \\theta_2 \\\\ \\vdots \\\\ \\theta_n \\end{bmatrix} - \\alpha \\frac{1}{m} \\sum_{i=1}^{m} \\left( (\\theta^T x^{(i)} - y^{(i)}) \\begin{bmatrix} x_0^{(i)} \\\\ x_1^{(i)} \\\\ x_2^{(i)} \\\\ \\vdots \\\\ x_n^{(i)} \\end{bmatrix} \\right) \\\\\n",
    "    \\end{aligned}\n",
    "    \\end{equation}$\n",
    "    \n",
    "     $\\theta := \\theta - \\alpha \\frac{1}{m} \\sum_{i=1}^{m} \\left( (\\theta^T x^{(i)} - y^{(i)}) x^{(i)} \\right)$\n",
    "\n",
    "    其中 $x$ is the design matrix, containing training examples. $x$ 就是设计矩阵，矩阵的元素即训练样本的features."
   ]
  },
  {
   "cell_type": "markdown",
   "metadata": {},
   "source": [
    "* **Example**"
   ]
  },
  {
   "cell_type": "code",
   "execution_count": 38,
   "metadata": {
    "ExecuteTime": {
     "end_time": "2020-04-25T00:49:05.194561Z",
     "start_time": "2020-04-25T00:49:04.959930Z"
    }
   },
   "outputs": [
    {
     "name": "stdout",
     "output_type": "stream",
     "text": [
      "initial cost = [4.83333333]\n"
     ]
    },
    {
     "data": {
      "image/png": "[encoded data removed]",
      "text/plain": [
       "<Figure size 432x288 with 1 Axes>"
      ]
     },
     "metadata": {
      "needs_background": "light"
     },
     "output_type": "display_data"
    }
   ],
   "source": [
    "# 假设函数为 h = theta_1 x_1 + theta_2 x_2\n",
    "%matplotlib inline\n",
    "\n",
    "import numpy as np\n",
    "import matplotlib.pyplot as plt\n",
    "\n",
    "\n",
    "x = np.array([[1, 1], [2, 2], [3, 3]])\n",
    "y = np.array([2, 3, 4])\n",
    "\n",
    "theta = np.zeros((1, 2))\n",
    "\n",
    "m = x.shape[0] # number of training examples\n",
    "\n",
    "alpha = 0.001 # learning rate\n",
    "\n",
    "threshold = 0.001 # error control\n",
    "\n",
    "cost_dict = {} # cost function result\n",
    "\n",
    "iter_num = 0 # iteration times\n",
    "\n",
    "\n",
    "def cost_j(theta):\n",
    "    tmp = 0\n",
    "    for i in range(m):\n",
    "        tmp += (np.dot(theta, x[i, :].T) - y[i])**2   # np.dot(x, y) 计算向量内积\n",
    "    return tmp/(2*m)\n",
    "\n",
    "\n",
    "def gradient_descent(theta):\n",
    "    tmp = 0\n",
    "    for i in range(m):\n",
    "        tmp += (np.dot(theta, x[i, :].T) - y[i]) * x[i, :].T\n",
    "\n",
    "    theta -= alpha * tmp / m\n",
    "    return theta\n",
    "\n",
    "\n",
    "cost = cost_j(theta)\n",
    "print(\"initial cost = {}\".format(cost))\n",
    "\n",
    "while cost > threshold:\n",
    "    theta = gradient_descent(theta)\n",
    "    iter_num += 1\n",
    "    if iter_num > 500:\n",
    "        break\n",
    "    cost = cost_j(theta)\n",
    "    cost_dict[iter_num] = cost\n",
    "    #print(\"iteration {}, theta = {}\".format(iter_num, theta))\n",
    "\n",
    "plt.figure()\n",
    "plt.plot(list(cost_dict.keys()), list(cost_dict.values()))\n",
    "plt.xlabel('Iteration Times')\n",
    "plt.ylabel(\"Cost Function Error\")\n",
    "plt.show()"
   ]
  },
  {
   "cell_type": "markdown",
   "metadata": {},
   "source": [
    "# #TODO\n",
    "* 求最优的算法之一最小二乘法 与梯度下降法的关系\n",
    "* 梯度下降法局部最优问题的解决方法\n",
    "* BGD, SGD, MBGD\n",
    "\n",
    "    \n",
    "* **Stochastic gradient descent, SGD**\n",
    " \n",
    "* **Mini-batch gradient descent, MBGD**\n",
    "\n"
   ]
  },
  {
   "cell_type": "markdown",
   "metadata": {},
   "source": [
    "# Reference\n",
    "\n",
    "1. [吴恩达机器学习系列课程][1].\n",
    "  \n",
    "  \n",
    "  \n",
    "[1]: https://www.bilibili.com/video/BV164411b7dx?p=1"
   ]
  },
  {
   "cell_type": "code",
   "execution_count": null,
   "metadata": {
    "pycharm": {
     "name": "#%%\n"
    }
   },
   "outputs": [],
   "source": []
  },
  {
   "cell_type": "code",
   "execution_count": null,
   "metadata": {},
   "outputs": [],
   "source": []
  }
 ],
 "metadata": {
  "kernelspec": {
   "display_name": "Python 3",
   "language": "python",
   "name": "python3"
  },
  "language_info": {
   "codemirror_mode": {
    "name": "ipython",
    "version": 3
   },
   "file_extension": ".py",
   "mimetype": "text/x-python",
   "name": "python",
   "nbconvert_exporter": "python",
   "pygments_lexer": "ipython3",
   "version": "3.7.3"
  },
  "toc": {
   "base_numbering": 1,
   "nav_menu": {},
   "number_sections": false,
   "sideBar": true,
   "skip_h1_title": true,
   "title_cell": "Table of Contents",
   "title_sidebar": "Contents",
   "toc_cell": true,
   "toc_position": {
    "height": "calc(100% - 180px)",
    "left": "10px",
    "top": "150px",
    "width": "187px"
   },
   "toc_section_display": true,
   "toc_window_display": true
  }
 },
 "nbformat": 4,
 "nbformat_minor": 2
}
