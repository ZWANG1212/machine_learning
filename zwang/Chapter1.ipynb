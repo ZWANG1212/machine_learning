{
 "cells": [
  {
   "cell_type": "markdown",
   "metadata": {},
   "source": [
    "# 第一章"
   ]
  },
  {
   "cell_type": "markdown",
   "metadata": {
    "toc": true
   },
   "source": [
    "<h1>Table of Contents<span class=\"tocSkip\"></span></h1>\n",
    "<div class=\"toc\"><ul class=\"toc-item\"><li><span><a href=\"#Supervised-Learning\" data-toc-modified-id=\"Supervised-Learning-1\">Supervised Learning</a></span></li><li><span><a href=\"#Unsupervised-Learning\" data-toc-modified-id=\"Unsupervised-Learning-2\">Unsupervised Learning</a></span></li><li><span><a href=\"#Cost-Function-代价函数\" data-toc-modified-id=\"Cost-Function-代价函数-3\">Cost Function 代价函数</a></span></li><li><span><a href=\"#Gradient-Descent-梯度下降算法\" data-toc-modified-id=\"Gradient-Descent-梯度下降算法-4\">Gradient Descent 梯度下降算法</a></span></li><li><span><a href=\"#Normal-Equation-Method\" data-toc-modified-id=\"Normal-Equation-Method-5\">Normal Equation Method</a></span></li></ul></div>"
   ]
  },
  {
   "cell_type": "markdown",
   "metadata": {},
   "source": [
    "# Content"
   ]
  },
  {
   "cell_type": "markdown",
   "metadata": {},
   "source": [
    "## Supervised Learning\n",
    "\n",
    "<img src=\"./img/1-1.png\" width=\"33%\">\n",
    "\n",
    "* ***Regression*** refers to predict a continuous valued output.\n",
    "\n",
    "\n",
    "* ***Classfication*** refers to predict a discrete valued output (e.g. 0, 1, 2, 3).\n"
   ]
  },
  {
   "cell_type": "markdown",
   "metadata": {},
   "source": [
    "   ## Unsupervised Learning\n",
    "   * ***Clustering*** "
   ]
  },
  {
   "cell_type": "markdown",
   "metadata": {},
   "source": [
    "## Cost Function 代价函数\n",
    "\n",
    "对于一元线性回归问题：\n",
    "\n",
    "> **Hypothesis:**\n",
    ">    \n",
    "> $h_\\theta=\\theta_0+\\theta_1x$\n",
    ">\n",
    "> **Parameters:**\n",
    ">\n",
    "> $\\theta_0, \\theta_1$\n",
    ">\n",
    "> **Cost Function:**\n",
    ">\n",
    ">$J(\\theta_0, \\theta_1)=\\frac{1}{2m}\\sum_{i=1}^m(h_\\theta(x^{(i)})-y^{(i)})^2$\n",
    ">\n",
    "> **Goal:** $minimize J(\\theta_0, \\theta_1)$\n",
    "\n",
    "\n",
    "其中代价函数表示为误差的平方，$m$ 为训练样本数量，$h(x)$ 为假设 *(hypothesis)* 函数。\n",
    "\n",
    "通过 $minimize J(\\theta)$ 求得 $\\theta$ 参数。"
   ]
  },
  {
   "cell_type": "markdown",
   "metadata": {},
   "source": [
    "## Gradient Descent 梯度下降算法\n",
    "\n",
    "* **Gradient descent algorithm:**\n",
    "\n",
    "    repeat until convergence {\n",
    "\n",
    "    $\\theta_j := \\theta_j - \\alpha\\frac{\\partial}{\\partial\\theta_j}J(\\theta_0, \\theta_1)$, (for $j=0$ and $j=1$)\n",
    "\n",
    "    }\n",
    "\n",
    "    where $\\alpha$ denotes the learning rate, controlling how big a step we take when updating parameter $\\theta_j$.\n",
    "\n",
    "\n",
    "* **Simultaneous update:**\n",
    "\n",
    "    temp0 := $\\theta_0 - \\alpha\\frac{\\partial}{\\partial\\theta_0}J(\\theta_0, \\theta_1)$\n",
    "\n",
    "    temp1 := $\\theta_1 - \\alpha\\frac{\\partial}{\\partial\\theta_1}J(\\theta_0, \\theta_1)$\n",
    "\n",
    "    $\\theta_0$ := temp0\n",
    "\n",
    "    $\\theta_1$ := tem1\n",
    "\n",
    "* **Learning rate $\\alpha$**\n",
    "\n",
    "<img src=\"./img/1-2.png\" width=\"33%\">\n",
    "\n",
    "    As we approach a local minimum, gradient descent will automatically take smaller steps (斜率正数越来越小). So, no need to decrease $\\alpha$ over time.\n",
    "\n",
    "* **Batch gradient descent, BGD**\n",
    "\n",
    "    \"Batch\": Each step of gradient descent uses all the training examples.\n",
    "\n",
    "    优点：精确\n",
    "\n",
    "    缺点：样本数量大时，速度慢\n",
    "    \n",
    "* **Stochastic gradient descent, SGD**\n",
    " \n",
    "* **Mini-batch gradient descent, MBGD**"
   ]
  },
  {
   "cell_type": "code",
   "execution_count": 15,
   "metadata": {
    "ExecuteTime": {
     "end_time": "2020-04-17T22:40:02.754692Z",
     "start_time": "2020-04-17T22:40:02.478052Z"
    },
    "scrolled": true
   },
   "outputs": [
    {
     "data": {
      "image/png": "[encoded data removed]",
      "text/plain": [
       "<Figure size 432x288 with 1 Axes>"
      ]
     },
     "metadata": {
      "needs_background": "light"
     },
     "output_type": "display_data"
    }
   ],
   "source": [
    "# -*- coding: UTF-8 -*-\n",
    "%matplotlib inline\n",
    "import matplotlib.pyplot as plt\n",
    "import plotly.graph_objects as go\n",
    "\n",
    "\n",
    "x = [1, 2, 3]\n",
    "y = [2, 3, 4]\n",
    "\n",
    "theta_0 = 0\n",
    "theta_1 = 0\n",
    "\n",
    "m = len(x) # number of training examples\n",
    "\n",
    "alpha = 0.001 # learning rate\n",
    "\n",
    "threshold = 0.001 # error control\n",
    "\n",
    "cost_dict = {} # cost function result \n",
    "\n",
    "iter_num = 0 # iteration times\n",
    "\n",
    "\n",
    "def cost_j(theta_0, theta_1):\n",
    "    tmp = 0\n",
    "    for i in range(m):\n",
    "        tmp += (theta_0 + theta_1 * x[i] - y[i])**2\n",
    "    return tmp/(2*m)\n",
    "\n",
    "\n",
    "def gradient_descent(theta_0, theta_1):\n",
    "    tmp_0 = tmp_1 = 0\n",
    "    for i in range(m):\n",
    "        tmp_0 += theta_0 + theta_1 * x[i] - y[i]\n",
    "        tmp_1 += (theta_0 + theta_1 * x[i] - y[i]) * x[i]\n",
    "    theta_0 -= alpha * tmp_0 / m\n",
    "    theta_1 -= alpha * tmp_1 / m\n",
    "    return theta_0, theta_1\n",
    "\n",
    "\n",
    "cost = cost_j(theta_0, theta_1)\n",
    "#print(\"initial cost = {}\".format(cost))\n",
    "\n",
    "while cost > threshold:\n",
    "    theta_0, theta_1 = gradient_descent(theta_0, theta_1)\n",
    "    iter_num += 1\n",
    "    cost = cost_j(theta_0, theta_1)\n",
    "    cost_dict[iter_num] = cost\n",
    "    #print(\"iteration {}, theta_0 = {}, theta_1 = {}\".format(iter_num, theta_0, theta_1))\n",
    "\n",
    "plt.figure()\n",
    "plt.plot(list(cost_dict.keys()), list(cost_dict.values()))\n",
    "plt.xlabel('Iteration Times')\n",
    "plt.ylabel(\"Cost Function Error\")\n",
    "plt.show()\n",
    "\n",
    "# x = list(cost_dict.keys())\n",
    "# y = list(cost_dict.values())\n",
    "# fig = go.Figure(data=go.Scatter(x=x, y=y))\n",
    "# fig.show()"
   ]
  },
  {
   "cell_type": "markdown",
   "metadata": {},
   "source": [
    "## Normal Equation Method\n",
    "\n"
   ]
  },
  {
   "cell_type": "markdown",
   "metadata": {},
   "source": [
    "# #TODO\n",
    "* 求最优的算法之一最小二乘法 与梯度下降法的关系\n",
    "* 梯度下降法局部最优问题的解决方法\n",
    "* BGD, SGD, MBGD"
   ]
  },
  {
   "cell_type": "markdown",
   "metadata": {},
   "source": [
    "# Reference\n",
    "\n",
    "1. [吴恩达机器学习系列课程][1].\n",
    "  \n",
    "  \n",
    "  \n",
    "[1]: https://www.bilibili.com/video/BV164411b7dx?p=1"
   ]
  },
  {
   "cell_type": "code",
   "execution_count": null,
   "metadata": {},
   "outputs": [],
   "source": []
  }
 ],
 "metadata": {
  "kernelspec": {
   "display_name": "Python 3",
   "language": "python",
   "name": "python3"
  },
  "language_info": {
   "codemirror_mode": {
    "name": "ipython",
    "version": 3
   },
   "file_extension": ".py",
   "mimetype": "text/x-python",
   "name": "python",
   "nbconvert_exporter": "python",
   "pygments_lexer": "ipython3",
   "version": "3.7.6"
  },
  "toc": {
   "base_numbering": 1,
   "nav_menu": {},
   "number_sections": false,
   "sideBar": true,
   "skip_h1_title": true,
   "title_cell": "Table of Contents",
   "title_sidebar": "Contents",
   "toc_cell": true,
   "toc_position": {
    "height": "calc(100% - 180px)",
    "left": "10px",
    "top": "150px",
    "width": "187px"
   },
   "toc_section_display": true,
   "toc_window_display": true
  }
 },
 "nbformat": 4,
 "nbformat_minor": 2
}