{
 "cells": [
  {
   "cell_type": "markdown",
   "id": "waiting-footage",
   "metadata": {},
   "source": [
    "## Variable对象\n",
    "\n",
    "* 对Tensor对象的进一步封装\n",
    "* 在模型训练过程中自动记录梯度信息，由算法自动优化\n",
    "* 可以被训练的对象\n",
    "* 在机器学习中作为模型参数\n",
    "\n",
    "**创建Variable对象**\n",
    "\n",
    "```\n",
    "tf.Variable(initial_value, dtype)\n",
    "```\n",
    "\n",
    "`initial_value`: 数字／python列表／numpy数组／tensor张量\n"
   ]
  },
  {
   "cell_type": "code",
   "execution_count": 3,
   "id": "stuffed-assurance",
   "metadata": {},
   "outputs": [
    {
     "data": {
      "text/plain": [
       "<tf.Variable 'Variable:0' shape=() dtype=int32, numpy=3>"
      ]
     },
     "execution_count": 3,
     "metadata": {},
     "output_type": "execute_result"
    }
   ],
   "source": [
    "import tensorflow as tf\n",
    "\n",
    "tf.Variable(3) #数字"
   ]
  },
  {
   "cell_type": "code",
   "execution_count": 7,
   "id": "abstract-landscape",
   "metadata": {},
   "outputs": [
    {
     "data": {
      "text/plain": [
       "<tf.Variable 'Variable:0' shape=() dtype=float32, numpy=3.0>"
      ]
     },
     "execution_count": 7,
     "metadata": {},
     "output_type": "execute_result"
    }
   ],
   "source": [
    "tf.Variable(3., dtype=tf.float32)"
   ]
  },
  {
   "cell_type": "code",
   "execution_count": 4,
   "id": "fantastic-semiconductor",
   "metadata": {},
   "outputs": [
    {
     "data": {
      "text/plain": [
       "<tf.Variable 'Variable:0' shape=(3,) dtype=int32, numpy=array([1, 2, 3], dtype=int32)>"
      ]
     },
     "execution_count": 4,
     "metadata": {},
     "output_type": "execute_result"
    }
   ],
   "source": [
    "tf.Variable([1, 2, 3]) #python列表"
   ]
  },
  {
   "cell_type": "code",
   "execution_count": 6,
   "id": "curious-resort",
   "metadata": {},
   "outputs": [
    {
     "data": {
      "text/plain": [
       "<tf.Variable 'Variable:0' shape=(2,) dtype=int64, numpy=array([1, 2])>"
      ]
     },
     "execution_count": 6,
     "metadata": {},
     "output_type": "execute_result"
    }
   ],
   "source": [
    "import numpy as np\n",
    "\n",
    "tf.Variable(np.array([1, 2])) #numpy数组"
   ]
  },
  {
   "cell_type": "code",
   "execution_count": 9,
   "id": "thick-castle",
   "metadata": {},
   "outputs": [
    {
     "data": {
      "text/plain": [
       "<tf.Variable 'Variable:0' shape=(2, 2) dtype=int32, numpy=\n",
       "array([[1, 2],\n",
       "       [3, 4]], dtype=int32)>"
      ]
     },
     "execution_count": 9,
     "metadata": {},
     "output_type": "execute_result"
    }
   ],
   "source": [
    "tf.Variable(tf.constant([[1, 2], [3, 4]])) #张量"
   ]
  },
  {
   "cell_type": "markdown",
   "id": "substantial-benefit",
   "metadata": {},
   "source": [
    "* `trainable`属性"
   ]
  },
  {
   "cell_type": "code",
   "execution_count": 12,
   "id": "indian-thread",
   "metadata": {},
   "outputs": [
    {
     "data": {
      "text/plain": [
       "True"
      ]
     },
     "execution_count": 12,
     "metadata": {},
     "output_type": "execute_result"
    }
   ],
   "source": [
    "x = tf.Variable(tf.zeros([2, 3]))\n",
    "x.trainable"
   ]
  },
  {
   "cell_type": "code",
   "execution_count": 13,
   "id": "comprehensive-airfare",
   "metadata": {},
   "outputs": [
    {
     "data": {
      "text/plain": [
       "tensorflow.python.ops.resource_variable_ops.ResourceVariable"
      ]
     },
     "execution_count": 13,
     "metadata": {},
     "output_type": "execute_result"
    }
   ],
   "source": [
    "type(x)"
   ]
  },
  {
   "cell_type": "markdown",
   "id": "attended-profession",
   "metadata": {},
   "source": [
    "* 赋值\n",
    "\n",
    "`对象名.assign()`\n",
    "\n",
    "`对象名.assign_add()`\n",
    "\n",
    "`对象名.assign_sub()`"
   ]
  },
  {
   "cell_type": "code",
   "execution_count": 15,
   "id": "floppy-failure",
   "metadata": {},
   "outputs": [
    {
     "data": {
      "text/plain": [
       "<tf.Variable 'Variable:0' shape=(2,) dtype=int32, numpy=array([1, 2], dtype=int32)>"
      ]
     },
     "execution_count": 15,
     "metadata": {},
     "output_type": "execute_result"
    }
   ],
   "source": [
    "x = tf.Variable([1, 2])\n",
    "x"
   ]
  },
  {
   "cell_type": "code",
   "execution_count": 17,
   "id": "sorted-syndication",
   "metadata": {},
   "outputs": [
    {
     "data": {
      "text/plain": [
       "<tf.Variable 'UnreadVariable' shape=(2,) dtype=int32, numpy=array([2, 4], dtype=int32)>"
      ]
     },
     "execution_count": 17,
     "metadata": {},
     "output_type": "execute_result"
    }
   ],
   "source": [
    "x.assign([2, 4])"
   ]
  },
  {
   "cell_type": "code",
   "execution_count": 18,
   "id": "convinced-network",
   "metadata": {},
   "outputs": [
    {
     "data": {
      "text/plain": [
       "<tf.Variable 'UnreadVariable' shape=(2,) dtype=int32, numpy=array([3, 5], dtype=int32)>"
      ]
     },
     "execution_count": 18,
     "metadata": {},
     "output_type": "execute_result"
    }
   ],
   "source": [
    "x.assign_add([1, 1])"
   ]
  },
  {
   "cell_type": "code",
   "execution_count": 19,
   "id": "yellow-politics",
   "metadata": {
    "scrolled": true
   },
   "outputs": [
    {
     "data": {
      "text/plain": [
       "<tf.Variable 'UnreadVariable' shape=(2,) dtype=int32, numpy=array([1, 3], dtype=int32)>"
      ]
     },
     "execution_count": 19,
     "metadata": {},
     "output_type": "execute_result"
    }
   ],
   "source": [
    "x.assign_sub([2, 2])"
   ]
  },
  {
   "cell_type": "code",
   "execution_count": 20,
   "id": "sporting-commission",
   "metadata": {},
   "outputs": [
    {
     "data": {
      "text/plain": [
       "True"
      ]
     },
     "execution_count": 20,
     "metadata": {},
     "output_type": "execute_result"
    }
   ],
   "source": [
    "a = tf.constant([1, 2])\n",
    "b = tf.Variable(a)\n",
    "isinstance(a, tf.Tensor)"
   ]
  },
  {
   "cell_type": "code",
   "execution_count": 21,
   "id": "explicit-boards",
   "metadata": {},
   "outputs": [
    {
     "data": {
      "text/plain": [
       "True"
      ]
     },
     "execution_count": 21,
     "metadata": {},
     "output_type": "execute_result"
    }
   ],
   "source": [
    "isinstance(b, tf.Variable)"
   ]
  },
  {
   "cell_type": "markdown",
   "id": "front-entry",
   "metadata": {},
   "source": [
    "## 自动求导机制 `GradientTape`\n",
    "\n",
    "`GradientTape`类实现了上下文管理器，\n",
    "\n",
    "```\n",
    "with tf.GradientTape(persistent, watch_accessed_variables) as tape:\n",
    "    函数表达式\n",
    "    grad = tape.gradient(函数, 自变量)\n",
    "```\n",
    "\n",
    "persistent：默认为False，表示只使用一次即被删除；若设置为True,记得手动删除。\n",
    "\n",
    "watch_accessed_variables: 监视所有可训练对象即Variable对象，默认为True;若设置为False，无法自动监视Variable，可手动添加`tape.watch(Variable)`, tape.watch()也可以监视非Variable对象，比如张量对象。\n",
    "\n",
    "tape.gradient(函数，自变量): 自变量可以是一个也可以是多个"
   ]
  },
  {
   "cell_type": "code",
   "execution_count": 22,
   "id": "third-break",
   "metadata": {},
   "outputs": [
    {
     "name": "stdout",
     "output_type": "stream",
     "text": [
      "tf.Tensor(9.0, shape=(), dtype=float32)\n",
      "tf.Tensor(27.0, shape=(), dtype=float32)\n",
      "tf.Tensor(6.0, shape=(), dtype=float32)\n",
      "tf.Tensor(27.0, shape=(), dtype=float32)\n"
     ]
    }
   ],
   "source": [
    "x = tf.Variable(3.)\n",
    "with tf.GradientTape(persistent=True) as tape:\n",
    "    y = tf.math.square(x)\n",
    "    z = tf.math.pow(x, 3)\n",
    "    \n",
    "dy_dx = tape.gradient(y, x)\n",
    "dz_dx = tape.gradient(z, x)\n",
    "\n",
    "print(y)\n",
    "print(z)\n",
    "print(dy_dx)\n",
    "print(dz_dx)\n",
    "\n",
    "del tape #注意删除"
   ]
  },
  {
   "cell_type": "code",
   "execution_count": 25,
   "id": "voluntary-floating",
   "metadata": {
    "scrolled": false
   },
   "outputs": [
    {
     "name": "stdout",
     "output_type": "stream",
     "text": [
      "tf.Tensor(42.0, shape=(), dtype=float32)\n",
      "tf.Tensor(6.0, shape=(), dtype=float32)\n",
      "tf.Tensor(16.0, shape=(), dtype=float32)\n"
     ]
    }
   ],
   "source": [
    "# 求多元偏导数\n",
    "x = tf.Variable(3.)\n",
    "y = tf.Variable(4.)\n",
    "\n",
    "with tf.GradientTape() as tape:\n",
    "    f = tf.math.square(x) + 2 * tf.math.square(y) + 1\n",
    "\n",
    "df_dx, df_dy = tape.gradient(f, [x, y])\n",
    "print(f)\n",
    "print(df_dx)\n",
    "print(df_dy)"
   ]
  },
  {
   "cell_type": "code",
   "execution_count": 28,
   "id": "imported-harvey",
   "metadata": {},
   "outputs": [
    {
     "name": "stdout",
     "output_type": "stream",
     "text": [
      "tf.Tensor(42.0, shape=(), dtype=float32)\n",
      "[<tf.Tensor: shape=(), dtype=float32, numpy=6.0>, <tf.Tensor: shape=(), dtype=float32, numpy=16.0>]\n",
      "[<tf.Tensor: shape=(), dtype=float32, numpy=2.0>, <tf.Tensor: shape=(), dtype=float32, numpy=4.0>]\n"
     ]
    }
   ],
   "source": [
    "# 求二阶偏导数\n",
    "x = tf.Variable(3.)\n",
    "y = tf.Variable(4.)\n",
    "\n",
    "with tf.GradientTape(persistent=True) as tape2:\n",
    "    \n",
    "    with tf.GradientTape(persistent=True) as tape1:\n",
    "        f = tf.math.square(x) + 2 * tf.math.square(y) + 1\n",
    "        \n",
    "    first_grads = tape1.gradient(f, [x, y])\n",
    "    \n",
    "second_grads = tape2.gradient(first_grads, [x, y])\n",
    "\n",
    "print(f)\n",
    "print(first_grads)\n",
    "print(second_grads)\n",
    "\n",
    "del tape1\n",
    "del tape2"
   ]
  },
  {
   "cell_type": "code",
   "execution_count": 30,
   "id": "liable-parade",
   "metadata": {},
   "outputs": [
    {
     "name": "stdout",
     "output_type": "stream",
     "text": [
      "tf.Tensor([34. 55. 82.], shape=(3,), dtype=float32)\n",
      "tf.Tensor([2. 4. 6.], shape=(3,), dtype=float32)\n",
      "tf.Tensor([16. 20. 24.], shape=(3,), dtype=float32)\n"
     ]
    }
   ],
   "source": [
    "# 对向量求导\n",
    "x = tf.Variable([1., 2., 3.])\n",
    "y = tf.Variable([4., 5., 6.])\n",
    "\n",
    "with tf.GradientTape() as tape:\n",
    "    f = tf.math.square(x) + 2 * tf.math.square(y) + 1\n",
    "    \n",
    "df_dx, df_dy = tape.gradient(f, [x, y])\n",
    "print(f)\n",
    "print(df_dx)\n",
    "print(df_dy)"
   ]
  },
  {
   "cell_type": "markdown",
   "id": "solid-zealand",
   "metadata": {},
   "source": [
    "**tf.where(condition, a, b)**\n",
    "\n",
    "condition为真则返回a，为假则返回b"
   ]
  },
  {
   "cell_type": "code",
   "execution_count": 33,
   "id": "opened-subsection",
   "metadata": {},
   "outputs": [
    {
     "data": {
      "text/plain": [
       "<tf.Tensor: shape=(4,), dtype=int32, numpy=array([0, 1, 1, 1], dtype=int32)>"
      ]
     },
     "execution_count": 33,
     "metadata": {},
     "output_type": "execute_result"
    }
   ],
   "source": [
    "pred = np.array([0.1, 0.5, 0.8, 1.])\n",
    "tf.where(pred<0.5, 0, 1)"
   ]
  },
  {
   "cell_type": "code",
   "execution_count": 35,
   "id": "annual-concentration",
   "metadata": {},
   "outputs": [
    {
     "data": {
      "text/plain": [
       "<tf.Tensor: shape=(4,), dtype=int64, numpy=array([ 1,  2, 30, 40])>"
      ]
     },
     "execution_count": 35,
     "metadata": {},
     "output_type": "execute_result"
    }
   ],
   "source": [
    "a = np.array([1, 2, 3, 4])\n",
    "b = np.array([10, 20, 30, 40])\n",
    "tf.where(pred<=0.5, a, b)"
   ]
  },
  {
   "cell_type": "markdown",
   "id": "sublime-chess",
   "metadata": {},
   "source": [
    "## TensorFlow实现一元线性回归"
   ]
  },
  {
   "cell_type": "code",
   "execution_count": 31,
   "id": "funny-wrestling",
   "metadata": {},
   "outputs": [
    {
     "name": "stdout",
     "output_type": "stream",
     "text": [
      "i: 0, Loss: 0.10826284438371658, w:1.3314887285232544, b:0.7152411341667175\n",
      "i: 1, Loss: 0.10815290361642838, w:1.3313909769058228, b:0.7152032852172852\n",
      "i: 2, Loss: 0.10804310441017151, w:1.3312933444976807, b:0.7151654958724976\n",
      "i: 3, Loss: 0.10793343186378479, w:1.3311957120895386, b:0.71512770652771\n",
      "i: 4, Loss: 0.10782379657030106, w:1.3310980796813965, b:0.7150899767875671\n",
      "i: 5, Loss: 0.10771435499191284, w:1.331000566482544, b:0.7150522470474243\n",
      "i: 6, Loss: 0.10760509967803955, w:1.3309030532836914, b:0.7150145173072815\n",
      "i: 7, Loss: 0.10749581456184387, w:1.3308056592941284, b:0.7149768471717834\n",
      "i: 8, Loss: 0.10738673806190491, w:1.3307082653045654, b:0.7149391770362854\n",
      "i: 9, Loss: 0.10727783292531967, w:1.330610990524292, b:0.7149015665054321\n",
      "i: 10, Loss: 0.1071690246462822, w:1.3305137157440186, b:0.7148639559745789\n"
     ]
    }
   ],
   "source": [
    "import tensorflow as tf\n",
    "import numpy as np\n",
    "\n",
    "# 加载数据\n",
    "x = np.array([1, 2, 3])\n",
    "y = np.array([2, 3, 4])\n",
    "\n",
    "# 设置超参数\n",
    "learn_rate = 0.0001\n",
    "iter = 10\n",
    "display_step = 1\n",
    "\n",
    "# 初始化参数\n",
    "np.random.seed(10)\n",
    "w = tf.Variable(np.random.randn())\n",
    "b = tf.Variable(np.random.randn())\n",
    "\n",
    "# 训练模型\n",
    "mse = []\n",
    "for i in range(0, iter+1):\n",
    "    with tf.GradientTape() as tape:\n",
    "        pred = w * x + b\n",
    "        Loss = 0.5 * tf.reduce_mean(tf.math.square(y-pred))\n",
    "\n",
    "    mse.append(Loss)\n",
    "    dL_dw, dL_db = tape.gradient(Loss, [w, b])\n",
    "    \n",
    "    w.assign_sub(learn_rate * dL_dw)\n",
    "    b.assign_sub(learn_rate * dL_db)\n",
    "    \n",
    "    if i % display_step == 0:\n",
    "        print(f\"i: {i}, Loss: {Loss}, w:{w.numpy()}, b:{b.numpy()}\")"
   ]
  },
  {
   "cell_type": "markdown",
   "id": "instant-acrobat",
   "metadata": {},
   "source": [
    "## TensorFlow实现一元逻辑回归"
   ]
  },
  {
   "cell_type": "code",
   "execution_count": null,
   "id": "straight-aquarium",
   "metadata": {},
   "outputs": [],
   "source": [
    "import numpy as np\n",
    "import tensorflow as tf\n",
    "import matplotlib.pyplot as plt\n",
    "\n",
    "# 加载数据\n",
    "x = np.array()\n",
    "y = np.array()\n",
    "\n",
    "plt.scatter(x, y)\n",
    "\n",
    "#数据处理\n",
    "x_train = x - np.mean(x) # 0均值\n",
    "y_train = y\n",
    "plt.scatter(x_train, y_train)\n",
    "\n",
    "# 设置超参数\n",
    "learn_rate = 0.005\n",
    "iter = 10\n",
    "\n",
    "display_step = 1\n",
    "# 设置模型变量初始值\n",
    "np.random.seed(12)\n",
    "w = tf.Variable(np.random.randn())\n",
    "b = tf.Variable(np.random.randn())\n",
    "\n",
    "# 训练模型\n",
    "cross_train = []\n",
    "acc_train = []\n",
    "\n",
    "for i in range(iter+1):\n",
    "    \n",
    "    with tf.GradientTape() as tape:\n",
    "        pred_train = 1/(1+tf.math.exp(-(w*x_train+b)))\n",
    "        Loss_train = -tf.reduce_mean(y_train*tf.math.log(pred_train)+(1-y_train)*tf.math.log(1-pred_train))\n",
    "    print(y_train*tf.math.log(pred_train)+(1-y_train)*tf.math.log(1-pred_train))    \n",
    "    Accuracy_train = tf.reduce_mean(tf.cast(tf.equal(tf.where(pred_train<0.5, 0, 1), y_train), tf.float32))\n",
    "    \n",
    "    cross_train.append(Loss_train)\n",
    "    acc_train.append(Accuracy_train)\n",
    "    \n",
    "    dL_dw, dL_db = tape.gradient(Loss_train, [w, b])\n",
    "      \n",
    "    w.assign_sub(learn_rate * dL_dw)\n",
    "    b.assign_sub(learn_rate * dL_db)\n",
    "    \n",
    "#     if i % display_step == 0:\n",
    "#         print(f\"i: {i}, train_loss: {Loss_train}, accuracy: {Accuracy_train}\")"
   ]
  },
  {
   "cell_type": "markdown",
   "id": "closed-short",
   "metadata": {},
   "source": [
    "## TensorFlow实现多元逻辑回归"
   ]
  },
  {
   "cell_type": "code",
   "execution_count": 3,
   "id": "wireless-adelaide",
   "metadata": {},
   "outputs": [
    {
     "name": "stdout",
     "output_type": "stream",
     "text": [
      "INFO:tensorflow:Enabling eager execution\n",
      "INFO:tensorflow:Enabling v2 tensorshape\n",
      "INFO:tensorflow:Enabling resource variables\n",
      "INFO:tensorflow:Enabling tensor equality\n",
      "INFO:tensorflow:Enabling control flow v2\n",
      "TensorFlow version: 2.5.0-rc0\n"
     ]
    }
   ],
   "source": [
    "import tensorflow as tf\n",
    "\n",
    "print(f\"TensorFlow version: {tf.__version__}\")"
   ]
  },
  {
   "cell_type": "code",
   "execution_count": 4,
   "id": "copyrighted-jimmy",
   "metadata": {},
   "outputs": [],
   "source": [
    "import numpy as np\n",
    "import pandas as pd\n",
    "import matplotlib as mpl\n",
    "import matplotlib.pyplot as plt\n"
   ]
  },
  {
   "cell_type": "code",
   "execution_count": 5,
   "id": "behind-roman",
   "metadata": {},
   "outputs": [
    {
     "name": "stdout",
     "output_type": "stream",
     "text": [
      "Downloading data from http://download.tensorflow.org/data/iris_training.csv\n",
      "8192/2194 [================================================================================================================] - 0s 0us/step\n",
      "Downloading data from http://download.tensorflow.org/data/iris_test.csv\n",
      "8192/573 [============================================================================================================================================================================================================================================================================================================================================================================================================================================] - 0s 0us/step\n"
     ]
    }
   ],
   "source": [
    "#加载数据集\n",
    "TRAIN_URL = \"http://download.tensorflow.org/data/iris_training.csv\"\n",
    "train_path = tf.keras.utils.get_file(TRAIN_URL.split(\"/\")[-1], TRAIN_URL)\n",
    "\n",
    "TEST_URL = \"http://download.tensorflow.org/data/iris_test.csv\"\n",
    "test_path = tf.keras.utils.get_file(TEST_URL.split(\"/\")[-1], TEST_URL)"
   ]
  },
  {
   "cell_type": "code",
   "execution_count": 6,
   "id": "protecting-acting",
   "metadata": {},
   "outputs": [],
   "source": [
    "#数据处理\n",
    "df_iris_train = pd.read_csv(train_path, header=0)\n",
    "df_iris_test = pd.read_csv(test_path, header=0)\n",
    "\n",
    "iris_train = np.array(df_iris_train)\n",
    "iris_test = np.array(df_iris_test)"
   ]
  },
  {
   "cell_type": "code",
   "execution_count": 7,
   "id": "arctic-roads",
   "metadata": {},
   "outputs": [
    {
     "data": {
      "text/plain": [
       "((120, 5), (30, 5))"
      ]
     },
     "execution_count": 7,
     "metadata": {},
     "output_type": "execute_result"
    }
   ],
   "source": [
    "iris_train.shape, iris_test.shape"
   ]
  },
  {
   "cell_type": "code",
   "execution_count": 9,
   "id": "characteristic-drilling",
   "metadata": {},
   "outputs": [],
   "source": [
    "train_x = iris_train[:, 0:2]\n",
    "train_y = iris_train[:, 4]\n",
    "\n",
    "test_x = iris_test[:, 0:2]\n",
    "test_y = iris_test[:, 4]"
   ]
  },
  {
   "cell_type": "code",
   "execution_count": 10,
   "id": "lesbian-massage",
   "metadata": {},
   "outputs": [
    {
     "data": {
      "text/plain": [
       "((120, 2), (120,))"
      ]
     },
     "execution_count": 10,
     "metadata": {},
     "output_type": "execute_result"
    }
   ],
   "source": [
    "train_x.shape, train_y.shape"
   ]
  },
  {
   "cell_type": "code",
   "execution_count": 11,
   "id": "partial-forty",
   "metadata": {},
   "outputs": [
    {
     "data": {
      "text/plain": [
       "((30, 2), (30,))"
      ]
     },
     "execution_count": 11,
     "metadata": {},
     "output_type": "execute_result"
    }
   ],
   "source": [
    "test_x.shape, test_y.shape"
   ]
  },
  {
   "cell_type": "code",
   "execution_count": 12,
   "id": "characteristic-donor",
   "metadata": {},
   "outputs": [],
   "source": [
    "x_train = train_x[train_y < 2]\n",
    "y_train = train_y[train_y < 2]"
   ]
  },
  {
   "cell_type": "code",
   "execution_count": 13,
   "id": "little-highway",
   "metadata": {},
   "outputs": [
    {
     "data": {
      "text/plain": [
       "((78, 2), (78,))"
      ]
     },
     "execution_count": 13,
     "metadata": {},
     "output_type": "execute_result"
    }
   ],
   "source": [
    "x_train.shape, y_train.shape"
   ]
  },
  {
   "cell_type": "code",
   "execution_count": 14,
   "id": "contained-general",
   "metadata": {},
   "outputs": [],
   "source": [
    "x_test = test_x[test_y < 2]\n",
    "y_test = test_y[test_y < 2]"
   ]
  },
  {
   "cell_type": "code",
   "execution_count": 15,
   "id": "unavailable-marina",
   "metadata": {},
   "outputs": [
    {
     "data": {
      "text/plain": [
       "((22, 2), (22,))"
      ]
     },
     "execution_count": 15,
     "metadata": {},
     "output_type": "execute_result"
    }
   ],
   "source": [
    "x_test.shape, y_test.shape"
   ]
  },
  {
   "cell_type": "code",
   "execution_count": 16,
   "id": "square-talent",
   "metadata": {},
   "outputs": [],
   "source": [
    "num_train = len(x_train)\n",
    "num_test = len(x_test)"
   ]
  },
  {
   "cell_type": "code",
   "execution_count": 17,
   "id": "maritime-season",
   "metadata": {},
   "outputs": [
    {
     "data": {
      "text/plain": [
       "(78, 22)"
      ]
     },
     "execution_count": 17,
     "metadata": {},
     "output_type": "execute_result"
    }
   ],
   "source": [
    "num_train, num_test"
   ]
  },
  {
   "cell_type": "code",
   "execution_count": 20,
   "id": "hired-bacteria",
   "metadata": {},
   "outputs": [
    {
     "data": {
      "image/png": "[encoded data removed]",
      "text/plain": [
       "<Figure size 720x216 with 2 Axes>"
      ]
     },
     "metadata": {
      "needs_background": "light"
     },
     "output_type": "display_data"
    }
   ],
   "source": [
    "plt.figure(figsize=(10, 3))\n",
    "cm_pt = mpl.colors.ListedColormap([\"blue\", \"red\"])\n",
    "\n",
    "plt.subplot(121)\n",
    "plt.scatter(x_train[:,0], x_train[:,1], c=y_train, cmap=cm_pt)\n",
    "\n",
    "plt.subplot(122)\n",
    "plt.scatter(x_test[:,0], x_test[:,1], c=y_test, cmap=cm_pt)\n",
    "\n",
    "plt.show()"
   ]
  },
  {
   "cell_type": "code",
   "execution_count": 21,
   "id": "august-jamaica",
   "metadata": {},
   "outputs": [
    {
     "name": "stdout",
     "output_type": "stream",
     "text": [
      "[5.42692308 3.1025641 ]\n",
      "[5.62727273 3.06363636]\n"
     ]
    }
   ],
   "source": [
    "#数据处理 - 按列中心化\n",
    "print(np.mean(x_train, axis=0))\n",
    "print(np.mean(x_test, axis=0))"
   ]
  },
  {
   "cell_type": "code",
   "execution_count": 22,
   "id": "criminal-country",
   "metadata": {},
   "outputs": [],
   "source": [
    "x_train = x_train - np.mean(x_train, axis=0)\n",
    "x_test = x_test - np.mean(x_test, axis=0)"
   ]
  },
  {
   "cell_type": "code",
   "execution_count": 23,
   "id": "gentle-donna",
   "metadata": {},
   "outputs": [
    {
     "data": {
      "image/png": "[encoded data removed]",
      "text/plain": [
       "<Figure size 720x216 with 2 Axes>"
      ]
     },
     "metadata": {
      "needs_background": "light"
     },
     "output_type": "display_data"
    }
   ],
   "source": [
    "plt.figure(figsize=(10, 3))\n",
    "cm_pt = mpl.colors.ListedColormap([\"blue\", \"red\"])\n",
    "\n",
    "plt.subplot(121)\n",
    "plt.scatter(x_train[:,0], x_train[:,1], c=y_train, cmap=cm_pt)\n",
    "\n",
    "plt.subplot(122)\n",
    "plt.scatter(x_test[:,0], x_test[:,1], c=y_test, cmap=cm_pt)\n",
    "\n",
    "plt.show()"
   ]
  },
  {
   "cell_type": "code",
   "execution_count": 25,
   "id": "native-packet",
   "metadata": {},
   "outputs": [],
   "source": [
    "#构建属性矩阵和标签列向量\n",
    "x0_train = np.ones(num_train).reshape(-1, 1)\n",
    "X_train = tf.cast(tf.concat((x0_train, x_train), axis=1), dtype=tf.float32)\n",
    "Y_train = tf.cast(y_train.reshape(-1, 1), dtype=tf.float32)"
   ]
  },
  {
   "cell_type": "code",
   "execution_count": 26,
   "id": "outdoor-fleet",
   "metadata": {},
   "outputs": [
    {
     "data": {
      "text/plain": [
       "(TensorShape([78, 3]), TensorShape([78, 1]))"
      ]
     },
     "execution_count": 26,
     "metadata": {},
     "output_type": "execute_result"
    }
   ],
   "source": [
    "X_train.shape, Y_train.shape"
   ]
  },
  {
   "cell_type": "code",
   "execution_count": 27,
   "id": "important-belly",
   "metadata": {},
   "outputs": [],
   "source": [
    "x0_test = np.ones(num_test).reshape(-1, 1)\n",
    "X_test = tf.cast(tf.concat((x0_test, x_test), axis=1), dtype=tf.float32)\n",
    "Y_test = tf.cast(y_test.reshape(-1, 1), dtype=tf.float32)"
   ]
  },
  {
   "cell_type": "code",
   "execution_count": 29,
   "id": "incorporate-stocks",
   "metadata": {},
   "outputs": [
    {
     "data": {
      "text/plain": [
       "(TensorShape([22, 3]), TensorShape([22, 1]))"
      ]
     },
     "execution_count": 29,
     "metadata": {},
     "output_type": "execute_result"
    }
   ],
   "source": [
    "X_test.shape, Y_test.shape"
   ]
  },
  {
   "cell_type": "code",
   "execution_count": 30,
   "id": "bored-entertainment",
   "metadata": {},
   "outputs": [],
   "source": [
    "#设置超参数，设置模型参数初始值\n",
    "learn_rate = 0.2\n",
    "iter = 120\n",
    "\n",
    "display_step = 30\n",
    "\n",
    "\n",
    "np.random.seed(30)\n",
    "W = tf.Variable(np.random.randn(3, 1), dtype=tf.float32)"
   ]
  },
  {
   "cell_type": "code",
   "execution_count": 34,
   "id": "academic-bridge",
   "metadata": {},
   "outputs": [
    {
     "name": "stdout",
     "output_type": "stream",
     "text": [
      "i: 0, TrainAcc: 0.7179487347602844, TrainLoss: 0.4470074474811554, TestAcc: 0.5454545617103577, TestLoss: 0.6719871759414673\n",
      "i: 30, TrainAcc: 0.9358974099159241, TrainLoss: 0.2702495753765106, TestAcc: 0.8636363744735718, TestLoss: 0.37381085753440857\n",
      "i: 60, TrainAcc: 0.9615384340286255, TrainLoss: 0.21514472365379333, TestAcc: 0.8636363744735718, TestLoss: 0.2829587161540985\n",
      "i: 90, TrainAcc: 0.9871794581413269, TrainLoss: 0.18427960574626923, TestAcc: 0.9090909361839294, TestLoss: 0.24019552767276764\n",
      "i: 120, TrainAcc: 1.0, TrainLoss: 0.1629219949245453, TestAcc: 0.9090909361839294, TestLoss: 0.214599609375\n"
     ]
    }
   ],
   "source": [
    "ce_train = []\n",
    "ce_test = []\n",
    "acc_train = []\n",
    "acc_test = []\n",
    "\n",
    "for i in range(iter+1):\n",
    "    with tf.GradientTape() as tape:\n",
    "        PRED_train = 1/(1+tf.math.exp(-tf.matmul(X_train, W)))\n",
    "        Loss_train = -tf.reduce_mean(Y_train*tf.math.log(PRED_train)+(1-Y_train)*tf.math.log(1-PRED_train))\n",
    "        PRED_test = 1/(1+tf.math.exp(-tf.matmul(X_test, W)))\n",
    "        Loss_test = -tf.reduce_mean(Y_test*tf.math.log(PRED_test)+(1-Y_test)*tf.math.log(1-PRED_test))\n",
    "        \n",
    "    accuracy_train = tf.reduce_mean(tf.cast(tf.equal(tf.where(PRED_train.numpy()<0.5, 0., 1.), Y_train), dtype=tf.float32))\n",
    "    accuracy_test = tf.reduce_mean(tf.cast(tf.equal(tf.where(PRED_test.numpy()<0.5, 0., 1.), Y_test), dtype=tf.float32))\n",
    "    \n",
    "    ce_train.append(Loss_train)\n",
    "    ce_test.append(Loss_test)\n",
    "    acc_train.append(accuracy_train)\n",
    "    acc_test.append(accuracy_test)\n",
    "    \n",
    "    dL_dW = tape.gradient(Loss_train, W)\n",
    "    W.assign_sub(learn_rate*dL_dW)\n",
    "    \n",
    "    if i % display_step == 0:\n",
    "        print(f\"i: {i}, TrainAcc: {accuracy_train}, TrainLoss: {Loss_train}, TestAcc: {accuracy_test}, TestLoss: {Loss_test}\")"
   ]
  },
  {
   "cell_type": "code",
   "execution_count": 37,
   "id": "juvenile-adult",
   "metadata": {},
   "outputs": [
    {
     "data": {
      "image/png": "[encoded data removed]",
      "text/plain": [
       "<Figure size 720x216 with 2 Axes>"
      ]
     },
     "metadata": {
      "needs_background": "light"
     },
     "output_type": "display_data"
    }
   ],
   "source": [
    "plt.figure(figsize=(10, 3))\n",
    "\n",
    "plt.subplot(121)\n",
    "plt.plot(ce_train, color=\"blue\", label=\"train\")\n",
    "plt.plot(ce_test, color=\"red\", label=\"test\")\n",
    "plt.ylabel(\"Loss\")\n",
    "plt.legend()\n",
    "\n",
    "plt.subplot(122)\n",
    "plt.plot(acc_train, color=\"blue\", label=\"train\")\n",
    "plt.plot(acc_test, color=\"red\", label=\"test\")\n",
    "plt.ylabel(\"Accuracy\")\n",
    "plt.legend()\n",
    "\n",
    "plt.show()"
   ]
  },
  {
   "cell_type": "markdown",
   "id": "separate-saudi",
   "metadata": {},
   "source": [
    "\n",
    "# Ref\n",
    "\n",
    "https://www.bilibili.com/video/BV1hK411w7ei?p=73&spm_id_from=pageDriver"
   ]
  }
 ],
 "metadata": {
  "kernelspec": {
   "display_name": "Python 3",
   "language": "python",
   "name": "python3"
  },
  "language_info": {
   "codemirror_mode": {
    "name": "ipython",
    "version": 3
   },
   "file_extension": ".py",
   "mimetype": "text/x-python",
   "name": "python",
   "nbconvert_exporter": "python",
   "pygments_lexer": "ipython3",
   "version": "3.9.2"
  }
 },
 "nbformat": 4,
 "nbformat_minor": 5
}
