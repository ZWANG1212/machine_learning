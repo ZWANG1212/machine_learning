{
 "cells": [
  {
   "cell_type": "markdown",
   "metadata": {},
   "source": [
    "# Interesting Math\n",
    "\n",
    "# Contents"
   ]
  },
  {
   "cell_type": "markdown",
   "metadata": {},
   "source": [
    "- [Linear Algebra](#Linear-Algebra)\n",
    "    - [Preface](#Preface)\n",
    "    - [Linear transformation](#Linear-transformation)\n",
    "    - [Matrix multiplication as composition](#Matrix-multiplication-as-composition)\n",
    "    - [Three-dimensional linear transformations](#Three-dimensional-linear-transformations)\n",
    "    - [The determinant](#The-determinant)\n",
    "    - [Inverse matrices, column space and null sapce](#Inverse-matrices,-column-space-and-null-sapce)\n",
    "    - [Reference](#Reference)"
   ]
  },
  {
   "cell_type": "markdown",
   "metadata": {},
   "source": [
    "# Linear Algebra\n",
    "## Preface"
   ]
  },
  {
   "cell_type": "markdown",
   "metadata": {},
   "source": [
    "There is fundamental difference between understanding linear algebra on _numerical level_ and understanding it on _geometric level_.\n",
    "- The geometric understanding lets you judge what tools to use to solve specific problems, feel why they work, and know how to interpret the results.\n",
    "- The numerical understaning lets you carry through the applications of those tools.  \n",
    "\n",
    "The linear algrbra gives the data analyst a nice way to conceptualise many lists of numbers in a visual way, which can seriously clarify patterns in data, and give a globally view of what certain operations do, and on the flip side, it gives people like physicist and computer graphics programmers a language to describe space and the manipulation of space using numbers that can be crunched and run through a computer.   "
   ]
  },
  {
   "cell_type": "markdown",
   "metadata": {},
   "source": [
    "## Linear transformation 线性变换"
   ]
  },
  {
   "cell_type": "markdown",
   "metadata": {},
   "source": [
    "Linear algebra limits itself to a special transformation. Visually speaking, a transformation is linear if it has two properties: __all lines must remain lines, without getting curved, and the origin must remain the fixed place__. Or generally speaking, grid lines remain parallel and evenly spaced.\n",
    "\n",
    "For example, given a random matrix $\\begin{bmatrix} 1 & 3 \\\\ 2 & 1 \\end{bmatrix}$, which denotes the transformed basis vectors' coordinates $\\vec{i} = \\begin{bmatrix} 1\\\\2 \\end{bmatrix}$, $\\vec{j}= \\begin{bmatrix} 3\\\\1 \\end{bmatrix}$, then given a random vector $\\begin{bmatrix} 6\\\\7 \\end{bmatrix}$, whose transformed new vector will be $$\\begin{bmatrix} 1&3\\\\2&1 \\end{bmatrix} \\begin{bmatrix} 6\\\\7 \\end{bmatrix}=6\\begin{bmatrix}1\\\\2 \\end{bmatrix}+7\\begin{bmatrix}3\\\\1 \\end{bmatrix}=\\begin{bmatrix}27\\\\19 \\end{bmatrix}$$\n",
    "\n",
    "Technically speaking, linear transformations are functions, with vectors are inputs, and vectors are outputs. The above example can also be described as   \n",
    "\n",
    "$$f\\left( \\begin{bmatrix}6\\\\7 \\end{bmatrix} \\right)=\n",
    "\\begin{bmatrix} 1&3\\\\2&1 \\end{bmatrix}\n",
    "\\begin{bmatrix} 6\\\\7 \\end{bmatrix}=\n",
    "6\\begin{bmatrix}1\\\\2 \\end{bmatrix}+\n",
    "7\\begin{bmatrix}3\\\\1 \\end{bmatrix}=\n",
    "\\begin{bmatrix}27\\\\19 \\end{bmatrix}$$"
   ]
  },
  {
   "cell_type": "markdown",
   "metadata": {},
   "source": [
    "## Matrix multiplication as composition"
   ]
  },
  {
   "cell_type": "markdown",
   "metadata": {
    "slideshow": {
     "slide_type": "slide"
    },
    "tags": [
     "Linear_Algebra"
    ]
   },
   "source": [
    "\"Composition\" of a rotation and a shear\n",
    "$$\n",
    "\\underbrace{\\begin{bmatrix} 1 & 1\\\\ 0 & 1 \\end{bmatrix}}_{\\text{Shear}} \n",
    "\\left(\\underbrace{\\begin{bmatrix}0&-1\\\\1&0 \\end{bmatrix}}_{\\text{Rotation}}\n",
    "\\begin{bmatrix}x\\\\y \\end{bmatrix}\\right)\n",
    "=\\underbrace{\\begin{bmatrix}1&-1\\\\1&0 \\end{bmatrix}}_{\\text{Composition}} \n",
    "\\begin{bmatrix}x\\\\y \\end{bmatrix}\n",
    "$$  \n",
    "\n",
    "where the matrix \"Composition\" can be seen as a \"product\" of the original matrices. It's the final linear transformation, as the total effect of two transformations.  \n",
    "  \n",
    "$$\n",
    "\\underbrace{\\begin{bmatrix} 1 & 1\\\\ 0 & 1 \\end{bmatrix}}_{\\text{Shear}} \n",
    "\\underbrace{\\begin{bmatrix}0&-1\\\\1&0 \\end{bmatrix}}_{\\text{Rotation}}\n",
    "=\\underbrace{\\begin{bmatrix}1&-1\\\\1&0 \\end{bmatrix}}_{\\text{Composition}} \n",
    "$$  \n",
    "\n",
    "Always remember, the mutilpilying two matrices like this has the geometric meaning of applying one transformation then another.  \n",
    "\n",
    "One thing that's kinda weird here, is that this has reading from right to left, you first apply the transformation represented by the matrix on the right, then you apply the transformation represented by the metrix on the left.\n",
    "$$\n",
    "\\overbrace{\n",
    "\\overleftarrow{\n",
    "\\underbrace{\\begin{bmatrix} 1 & 1\\\\ 0 & 1 \\end{bmatrix}}_{\\text{Shear}} \n",
    "\\underbrace{\\begin{bmatrix}0&-1\\\\1&0 \\end{bmatrix}}_{\\text{Rotation}}\n",
    "}\n",
    "}^{f(g(x))}\n",
    "=\\underbrace{\\begin{bmatrix}1&-1\\\\1&0 \\end{bmatrix}}_{\\text{Composition}} \n",
    "$$  \n",
    "\n",
    "This stems from funtion notation, since we write functions on the left of variables, so every time you compose two functions, you always have to read it from right to left.  \n",
    "\n",
    "How to find the new transformation based on the given transformations? For example, $M_1=\\begin{bmatrix}1&-2\\\\1&0\\\\ \\end{bmatrix}$, $M_2=\\begin{bmatrix}0&2\\\\1&0 \\end{bmatrix}$.  \n",
    "$$\n",
    "\\overbrace{\n",
    "\\begin{bmatrix}0&2\\\\1&0 \\end{bmatrix}\n",
    "}^{M_2}\n",
    "\\overbrace{\n",
    "\\begin{bmatrix}1&-2\\\\1&0 \\end{bmatrix}\n",
    "}^{M_1}\n",
    "=\\begin{bmatrix}?&?\\\\?&? \\end{bmatrix}\n",
    "$$\n",
    "First, we need to figure out where i-hat goes. After applying $M_1$, the new coordinates of i-hat, by definition, are given by the first column of $M_1$, namely $\\begin{bmatrix}1\\\\1\\\\ \\end{bmatrix}$. To see what happens after applying $M_2$, multiply the matrix $M_2$ by that vector $\\begin{bmatrix}1\\\\1\\\\ \\end{bmatrix}$. Working it out, you would get vector $\\begin{bmatrix}2\\\\1\\end{bmatrix}$. This would be the first column of the composition matrix. \n",
    "\n",
    "$$\\begin{bmatrix}0&2\\\\1&0 \\end{bmatrix}\n",
    "\\begin{bmatrix}1\\\\1 \\end{bmatrix}=\n",
    "1\\begin{bmatrix}0\\\\1 \\end{bmatrix}+\n",
    "1\\begin{bmatrix}2\\\\0 \\end{bmatrix}=\n",
    "\\begin{bmatrix}2\\\\1 \\end{bmatrix}\n",
    "$$  \n",
    "\n",
    "Likewise, to follow j-hat, the second column of $M_1$ tells us the first lands on $\\begin{bmatrix}-2\\\\0\\end{bmatrix}$. Then, we apply $M_2$ to that vector, you can work out the matrix-vector product to get $\\begin{bmatrix}0\\\\-2\\end{bmatrix}$:  \n",
    "\n",
    "$$\\begin{bmatrix}0&2\\\\1&0 \\end{bmatrix}\n",
    "\\begin{bmatrix}-2\\\\0 \\end{bmatrix}=\n",
    "-2\\begin{bmatrix}0\\\\1\\end{bmatrix}+\n",
    "0\\begin{bmatrix}2\\\\0\\end{bmatrix}=\n",
    "\\begin{bmatrix}0\\\\-2\\end{bmatrix}\n",
    "$$  \n",
    "\n",
    "So, the final transformation is:\n",
    "$$\\begin{bmatrix}0&2\\\\1&0 \\end{bmatrix}\n",
    "\\begin{bmatrix}1&-2\\\\1&0 \\end{bmatrix}=\n",
    "\\begin{bmatrix}2&0\\\\1&-2\\end{bmatrix}\n",
    "$$\n",
    "\n",
    "This method works generally. Try it again! \n",
    "$$\n",
    "\\overbrace{\n",
    "\\begin{bmatrix}a&b\\\\c&d \\end{bmatrix}\n",
    "}^{M_2}\n",
    "\\overbrace{\n",
    "\\begin{bmatrix}e&f\\\\g&h \\end{bmatrix}\n",
    "}^{M_1}\n",
    "=\\begin{bmatrix}?&?\\\\?&? \\end{bmatrix}\n",
    "$$  \n",
    "To follow where i-hat goes, start by looking at the first column of the matrix on the right $\\begin{bmatrix}e\\\\g\\end{bmatrix}$, since this is where i-hat initially lands. Multiplying that column by the matrix on the left, is how you can tell where the intermediate version of i-hat ends up after applying the second transformation.So the first column of the first composition matrix will always equal the first matrix times the firt column of the right matrix. \n",
    "\n",
    "$$\\begin{bmatrix}a&b\\\\c&d\\end{bmatrix}\n",
    "\\begin{bmatrix}e\\\\g\\end{bmatrix}=\n",
    "e\\begin{bmatrix}a\\\\c\\end{bmatrix}+\n",
    "g\\begin{bmatrix}b\\\\d\\end{bmatrix}=\n",
    "\\begin{bmatrix}ae+bg\\\\ce+dg\\end{bmatrix}\n",
    "$$\n",
    "\n",
    "Likewise, j-hat will always initially land on the second column of the right matrix $\\begin{bmatrix}f\\\\h\\end{bmatrix}$. So multiplying the first matrix by this second column will give its final location, and hence that's the second column of the composition matrix.  \n",
    "\n",
    "$$\\begin{bmatrix}a&b\\\\c&d\\end{bmatrix}\n",
    "\\begin{bmatrix}f\\\\h\\end{bmatrix}=\n",
    "f\\begin{bmatrix}a\\\\c\\end{bmatrix}+\n",
    "h\\begin{bmatrix}b\\\\d\\end{bmatrix}=\n",
    "\\begin{bmatrix}af+bh\\\\cf+dh\\end{bmatrix}\n",
    "$$\n",
    "\n",
    "So, the final result is:\n",
    "\n",
    "$$\\begin{bmatrix}a&b\\\\c&d\\end{bmatrix}\n",
    "\\begin{bmatrix}e&f\\\\g&h\\end{bmatrix}=\n",
    "\\begin{bmatrix}ae+bg & af+bh \\\\ ce+dg &(cf+dh) \\end{bmatrix}\n",
    "$$\n",
    "\n",
    "The order of two transformations totally does matter! That says $M_1M_2\\neq M_2M_1$.\n",
    "\n",
    "In another case, $A(BC)=(AB)C$. It's saying that if you first apply C then B, then A, it's the same as applying C, then B then A. The order of transformations is the same.  "
   ]
  },
  {
   "cell_type": "markdown",
   "metadata": {},
   "source": [
    "## Three-dimensional linear transformations"
   ]
  },
  {
   "cell_type": "markdown",
   "metadata": {},
   "source": [
    "For example,\n",
    "\n",
    "$$\n",
    "\\underbrace{\\begin{bmatrix}0&1&2\\\\3&4&5\\\\6&7&8\\end{bmatrix}}_{\\text{Transformation}}\n",
    "\\overbrace{\\begin{bmatrix}x\\\\y\\\\z\\end{bmatrix}}^{\\text{Input vector}}=\n",
    "\\underbrace{\n",
    "x\\begin{bmatrix}0\\\\3\\\\6\\end{bmatrix}+\n",
    "y\\begin{bmatrix}1\\\\4\\\\7\\end{bmatrix}+\n",
    "z\\begin{bmatrix}2\\\\5\\\\8\\end{bmatrix}\n",
    "}_{\\text{Output vector}}\n",
    "$$\n",
    "\n",
    "Multiplying two transformations is also similar. Whenever you see two 3x3 matrices getting multiplied together, you should image first applying the transformation encoded by the right one, then applying the transformation encoded by the left one. Performing this matrix mutiplication numerically is pretty similar to the two-dimensional case. For example:\n",
    "\n",
    "$$\n",
    "\\overbrace{\n",
    "\\begin{bmatrix}0&-2&2\\\\5&1&5\\\\1&4&-1\\end{bmatrix}\n",
    "}^{\\text{Second tranformation}}\n",
    "\\underbrace{\n",
    "\\begin{bmatrix}0&1&2\\\\3&4&5\\\\6&7&8\\end{bmatrix}\n",
    "}_{\\text{First transformation}}\n",
    "$$\n",
    "\n",
    "First, follow where i-hat goes:\n",
    "\n",
    "$$\n",
    "\\begin{bmatrix}0&-2&2\\\\5&1&5\\\\1&4&-1\\end{bmatrix}\n",
    "\\begin{bmatrix}0\\\\3\\\\6\\end{bmatrix}=\n",
    "0\\begin{bmatrix}0\\\\5\\\\1\\end{bmatrix}+\n",
    "3\\begin{bmatrix}-2\\\\1\\\\4\\end{bmatrix}+\n",
    "6\\begin{bmatrix}2\\\\5\\\\-1\\end{bmatrix}=\n",
    "\\begin{bmatrix}6\\\\33\\\\6\\end{bmatrix}\n",
    "$$\n",
    "\n",
    "Then, follow where j-hat goes:\n",
    "\n",
    "$$\n",
    "\\begin{bmatrix}0&-2&2\\\\5&1&5\\\\1&4&-1\\end{bmatrix}\n",
    "\\begin{bmatrix}1\\\\4\\\\7\\end{bmatrix}=\n",
    "1\\begin{bmatrix}0\\\\5\\\\1\\end{bmatrix}+\n",
    "4\\begin{bmatrix}-2\\\\1\\\\4\\end{bmatrix}+\n",
    "7\\begin{bmatrix}2\\\\5\\\\-1\\end{bmatrix}=\n",
    "\\begin{bmatrix}6\\\\44\\\\10\\end{bmatrix}\n",
    "$$\n",
    "\n",
    "At last, follw where k-hat goes:\n",
    "\n",
    "$$\n",
    "\\begin{bmatrix}0&-2&2\\\\5&1&5\\\\1&4&-1\\end{bmatrix}\n",
    "\\begin{bmatrix}2\\\\5\\\\8\\end{bmatrix}=\n",
    "2\\begin{bmatrix}0\\\\5\\\\1\\end{bmatrix}+\n",
    "5\\begin{bmatrix}-2\\\\1\\\\4\\end{bmatrix}+\n",
    "8\\begin{bmatrix}2\\\\5\\\\-1\\end{bmatrix}=\n",
    "\\begin{bmatrix}6\\\\55\\\\14\\end{bmatrix}\n",
    "$$\n",
    "\n",
    "So, the final transformation is:\n",
    "$$\n",
    "\\begin{bmatrix}0&-2&2\\\\5&1&5\\\\1&4&-1\\end{bmatrix}\n",
    "\\begin{bmatrix}0&1&2\\\\3&4&5\\\\6&7&8\\end{bmatrix}=\n",
    "\\begin{bmatrix}6&6&6\\\\33&14&55\\\\6&10&14\\end{bmatrix}\n",
    "$$"
   ]
  },
  {
   "cell_type": "markdown",
   "metadata": {},
   "source": [
    "## The determinant 行列式"
   ]
  },
  {
   "cell_type": "markdown",
   "metadata": {},
   "source": [
    "One thing that turns out to be pretty useful to understand linear transformation is to measure exactly how much it stretches or squishes things. More specifically, to measure the factor by which the given region increases or decreases.  \n",
    "For example, given matrix $\\begin{bmatrix}3&0\\\\0&2\\end{bmatrix}$, how much is __area__  scaled after transformation? \n",
    "Since the region started out with area 1, ended up with area 6, we can say that the liear transformation has scaled its area by a factor of 6.  \n",
    "If you know how much the area of one single unit square changes, it can tell you how any possible region in space changes. This very special scaling factor by which a linear transformation changes any area, is called the _determinant_ of the transformation.\n",
    "\n",
    "$$det\\left(\\begin{bmatrix}3&2\\\\0&2\\end{bmatrix}\\right)=6$$\n",
    "\n",
    "Below image illustrates the determinant of geometic meaning:\n",
    "\n",
    "<img src=\"img/IM-1.png\" width = \"60%\" />\n",
    "\n",
    "But, what would scaling an area by a negative amount even mean?\n",
    "For example, $det\\left(\\begin{bmatrix}1&2\\\\3&4\\end{bmatrix}\\right)=-2$. This has to do with the idea of orientation, which feels like flipping space. Any transformations that do this are said to \"invert the orientation of space\".  \n",
    "Determinant of 3x3 matrix tells you how much volume get scaled.\n",
    "\n",
    "<img src=\"img/IM-2.png\" width = \"50%\" />\n",
    "\n",
    "The determinant of the resulting matrix is the same as the product of the determinants of the original two matirces. $det(M_1M_2)=det(M_1)det(M_2)$"
   ]
  },
  {
   "cell_type": "markdown",
   "metadata": {},
   "source": [
    "矩阵点乘也是矩阵空间线性变换的一种形式。\n",
    "\n",
    "两个向量的叉乘 = 两个向量所围成的平行四边形的面积，即 $\\vec{v} \\times \\vec{w} = -\\vec{w} \\times \\vec{v} = Area \\quad of \\quad parallelogram$\n",
    "\n",
    "结果也可能是负值，负值则代表了向量所在的空间发生了翻转。 \n",
    "\n",
    "两个向量的叉乘可以用矩阵的**行列式**来计算，因为行列式就是变换前后面积变化比例的度量。\n",
    "\n",
    "比如$\\vec{v} = \\begin{bmatrix} 3 \\\\ 1 \\end{bmatrix}$, $\\vec{w} = \\begin{bmatrix} 2 \\\\ -1 \\end{bmatrix}$, 将向量$\\vec{v}$作为矩阵的第一列，向量$\\vec{w}$作为矩阵的第二列，即 $\\begin{bmatrix} 3 & 2 \\\\ 1 & -1 \\end{bmatrix}$, 那么, $$\\vec{v} \\times \\vec{w} = det \\left( \\begin{bmatrix} 3 & 2 \\\\ 1 & -1 \\end{bmatrix} \\right) = \\begin{vmatrix} 3 & 2 \\\\ 1 & -1 \\end{vmatrix} = -3 \\cdot 1 + 2 \\cdot 1 = -5$$\n",
    "\n",
    "当两个向量的方向垂直时，此时的面积最大；当两个向量的方向相近时，此时的面积最小。放大其中一个向量3倍，则其面积也是变为3倍，即 $(3\\vec{v}) \\times \\vec{w} = 3(\\vec{v}\\times\\vec{w})$。\n",
    "\n",
    "实际上，两个向量的叉乘的结果也是一个向量，即$\\vec{v} \\times \\vec{w} = \\vec{p}$, 向量$\\vec{p}$的大小是向量$\\vec{v}$和向量$\\vec{w}$所围成的平行四边形的面积，$\\vec{p}$的方向与平行四边形所在的平面垂直，如图所示。\n",
    "\n",
    "<img src=\"img/IM-3.png\" width = \"30%\" />\n",
    "\n",
    "对于3维的向量的叉乘的计算，如下所示：\n",
    "\n",
    "$$\\begin{bmatrix} v_1 \\\\ v_2 \\\\ v_3 \\end{bmatrix} \\times \\begin{bmatrix} w_1 \\\\ w_2 \\\\ w_3 \\end{bmatrix} = det \\left( \\begin{bmatrix} \\hat{i} & v_1 & w_1 \\\\ \\hat{j} & v_2 & w_2 \\\\ \\hat{k} v_3 & w_3 \\end{bmatrix}\\right) = \\hat{i}(v_2 w_3 - v_3 w_2) - \\hat{j}(v_1 w_3 - V_3 w_1) + \\hat{k}(v_1 w_2 - v_2 w_1)$$\n",
    "\n",
    "其中，$\\hat{i}, \\hat{j}, \\hat{k}$为基向量。\n",
    "\n"
   ]
  },
  {
   "cell_type": "markdown",
   "metadata": {},
   "source": [
    "## Cramer's rule"
   ]
  },
  {
   "cell_type": "markdown",
   "metadata": {},
   "source": [
    "## Inverse matrices, column space and null sapce"
   ]
  },
  {
   "cell_type": "markdown",
   "metadata": {},
   "source": [
    "Linear system of equations. You might notice that this looks a lot like matrix-vector multiplication. In fact, you can package all of the equations together into a single vector equation, where you have the matrix containing all of the constant coefficients, and a vector containing all of the variables, and their matrix-vector product equals some different constant vector. \n",
    "\n",
    "$$\n",
    "\\begin{cases}\n",
    "2x+5y+3z=-3\\\\\n",
    "4x+0y+8z=0\\\\\n",
    "1x+3y+0z=2\n",
    "\\end{cases}\n",
    "\\longrightarrow\n",
    "\\overbrace{\n",
    "\\underbrace{\n",
    "\\begin{bmatrix}2&5&3\\\\\n",
    "4&0&8\\\\\n",
    "1&3&0\n",
    "\\end{bmatrix}\n",
    "}_{\\text{Coefficients}}\n",
    "}^{A}\n",
    "\\overbrace{\n",
    "\\underbrace{\n",
    "\\begin{bmatrix}x\\\\\n",
    "y\\\\\n",
    "z\n",
    "\\end{bmatrix}\n",
    "}_{\\text{Variables}}\n",
    "}^{\\overrightarrow{X}}=\n",
    "\\overbrace{\n",
    "\\underbrace{\n",
    "\\begin{bmatrix}-3\\\\\n",
    "0\\\\\n",
    "2\n",
    "\\end{bmatrix}\n",
    "}_{\\text{Constants}}\n",
    "}^{\\overrightarrow{V}}\n",
    "\\longrightarrow\n",
    "\\underbrace{A}_{Transformation}\n",
    "\\overrightarrow{X}=\\overrightarrow{V}\n",
    "$$\n",
    "\n",
    "jixingIt sheds light on a pretty cool geometic interpretation for the problem. The matrix $A$ corresponds with some linear transformation, so solving $AX=V$ means we are looking for a vector $X$, which after applying the transformation, lands on $V$."
   ]
  },
  {
   "cell_type": "markdown",
   "metadata": {},
   "source": [
    "## Reference\n",
    "   1. [Essence of Linear Algebra][1].\n",
    "  \n",
    "  \n",
    "  \n",
    "[1]: https://www.youtube.com/watch?v=kjBOesZCoqc&list=PLZHQObOWTQDPD3MizzM2xVFitgF8hE_ab"
   ]
  }
 ],
 "metadata": {
  "kernelspec": {
   "display_name": "python3_env",
   "language": "python",
   "name": "python3_env"
  },
  "language_info": {
   "codemirror_mode": {
    "name": "ipython",
    "version": 3
   },
   "file_extension": ".py",
   "mimetype": "text/x-python",
   "name": "python",
   "nbconvert_exporter": "python",
   "pygments_lexer": "ipython3",
   "version": "3.7.3"
  },
  "toc": {
   "base_numbering": 1,
   "nav_menu": {},
   "number_sections": false,
   "sideBar": true,
   "skip_h1_title": true,
   "title_cell": "Table of Contents",
   "title_sidebar": "Contents",
   "toc_cell": false,
   "toc_position": {
    "height": "calc(100% - 180px)",
    "left": "10px",
    "top": "150px",
    "width": "165px"
   },
   "toc_section_display": true,
   "toc_window_display": true
  }
 },
 "nbformat": 4,
 "nbformat_minor": 2
}
